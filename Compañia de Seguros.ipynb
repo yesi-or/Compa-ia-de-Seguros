{
 "cells": [
  {
   "cell_type": "markdown",
   "metadata": {},
   "source": [
    "# Descripción"
   ]
  },
  {
   "cell_type": "markdown",
   "metadata": {},
   "source": [
    "La compañía de seguros Sure Tomorrow quiere resolver varias tareas con la ayuda de machine learning y te pide que evalúes esa posibilidad.\n",
    "- Tarea 1: encontrar clientes que sean similares a un cliente determinado. Esto ayudará a los agentes de la compañía con el marketing.\n",
    "- Tarea 2: predecir la probabilidad de que un nuevo cliente reciba una prestación del seguro. ¿Puede un modelo de predictivo funcionar mejor que un modelo dummy?\n",
    "- Tarea 3: predecir el número de prestaciones de seguro que un nuevo cliente pueda recibir utilizando un modelo de regresión lineal.\n",
    "- Tarea 4: proteger los datos personales de los clientes sin afectar al modelo del ejercicio anterior. Es necesario desarrollar un algoritmo de transformación de datos que dificulte la recuperación de la información personal si los datos caen en manos equivocadas. Esto se denomina enmascaramiento u ofuscación de datos. Pero los datos deben protegerse de tal manera que no se vea afectada la calidad de los modelos de machine learning. No es necesario elegir el mejor modelo, basta con demostrar que el algoritmo funciona correctamente.\n"
   ]
  },
  {
   "cell_type": "markdown",
   "metadata": {},
   "source": [
    "# Preprocesamiento y exploración de datos\n",
    "\n",
    "## Inicialización"
   ]
  },
  {
   "cell_type": "code",
   "execution_count": 1,
   "metadata": {},
   "outputs": [],
   "source": [
    "import random\n",
    "import numpy as np\n",
    "import pandas as pd\n",
    "import math \n",
    "\n",
    "import seaborn as sns\n",
    "import scipy.stats\n",
    "import matplotlib.pyplot as plt\n",
    "\n",
    "import sklearn.linear_model\n",
    "import sklearn.metrics\n",
    "import sklearn.preprocessing\n",
    "\n",
    "from sklearn.model_selection import train_test_split\n",
    "from sklearn.metrics import f1_score\n",
    "from sklearn.metrics import mean_squared_error, r2_score\n",
    "from sklearn.linear_model import LinearRegression\n",
    "\n",
    "from IPython.display import display\n",
    "from sklearn.neighbors import NearestNeighbors\n",
    "from sklearn.preprocessing import MaxAbsScaler\n",
    "from sklearn.neighbors import KNeighborsClassifier"
   ]
  },
  {
   "cell_type": "markdown",
   "metadata": {},
   "source": [
    "## Carga de datos"
   ]
  },
  {
   "cell_type": "markdown",
   "metadata": {},
   "source": [
    "Carga los datos y haz una revisión básica para comprobar que no hay problemas obvios."
   ]
  },
  {
   "cell_type": "code",
   "execution_count": 2,
   "metadata": {},
   "outputs": [],
   "source": [
    "df = pd.read_csv('/datasets/insurance_us.csv')"
   ]
  },
  {
   "cell_type": "markdown",
   "metadata": {},
   "source": [
    "Renombramos las columnas para que el código se vea más coherente con su estilo."
   ]
  },
  {
   "cell_type": "code",
   "execution_count": 3,
   "metadata": {},
   "outputs": [],
   "source": [
    "df = df.rename(columns={'Gender': 'gender', 'Age': 'age', 'Salary': 'income', 'Family members': 'family_members', 'Insurance benefits': 'insurance_benefits'})"
   ]
  },
  {
   "cell_type": "code",
   "execution_count": 4,
   "metadata": {},
   "outputs": [
    {
     "data": {
      "text/html": [
       "<div>\n",
       "<style scoped>\n",
       "    .dataframe tbody tr th:only-of-type {\n",
       "        vertical-align: middle;\n",
       "    }\n",
       "\n",
       "    .dataframe tbody tr th {\n",
       "        vertical-align: top;\n",
       "    }\n",
       "\n",
       "    .dataframe thead th {\n",
       "        text-align: right;\n",
       "    }\n",
       "</style>\n",
       "<table border=\"1\" class=\"dataframe\">\n",
       "  <thead>\n",
       "    <tr style=\"text-align: right;\">\n",
       "      <th></th>\n",
       "      <th>gender</th>\n",
       "      <th>age</th>\n",
       "      <th>income</th>\n",
       "      <th>family_members</th>\n",
       "      <th>insurance_benefits</th>\n",
       "    </tr>\n",
       "  </thead>\n",
       "  <tbody>\n",
       "    <tr>\n",
       "      <th>2077</th>\n",
       "      <td>1</td>\n",
       "      <td>49.0</td>\n",
       "      <td>37900.0</td>\n",
       "      <td>5</td>\n",
       "      <td>1</td>\n",
       "    </tr>\n",
       "    <tr>\n",
       "      <th>3372</th>\n",
       "      <td>0</td>\n",
       "      <td>42.0</td>\n",
       "      <td>23000.0</td>\n",
       "      <td>2</td>\n",
       "      <td>0</td>\n",
       "    </tr>\n",
       "    <tr>\n",
       "      <th>4516</th>\n",
       "      <td>1</td>\n",
       "      <td>28.0</td>\n",
       "      <td>38100.0</td>\n",
       "      <td>0</td>\n",
       "      <td>0</td>\n",
       "    </tr>\n",
       "    <tr>\n",
       "      <th>2882</th>\n",
       "      <td>1</td>\n",
       "      <td>37.0</td>\n",
       "      <td>42300.0</td>\n",
       "      <td>1</td>\n",
       "      <td>0</td>\n",
       "    </tr>\n",
       "    <tr>\n",
       "      <th>2033</th>\n",
       "      <td>1</td>\n",
       "      <td>25.0</td>\n",
       "      <td>50900.0</td>\n",
       "      <td>0</td>\n",
       "      <td>0</td>\n",
       "    </tr>\n",
       "    <tr>\n",
       "      <th>4397</th>\n",
       "      <td>0</td>\n",
       "      <td>34.0</td>\n",
       "      <td>42200.0</td>\n",
       "      <td>0</td>\n",
       "      <td>0</td>\n",
       "    </tr>\n",
       "    <tr>\n",
       "      <th>1120</th>\n",
       "      <td>1</td>\n",
       "      <td>33.0</td>\n",
       "      <td>21700.0</td>\n",
       "      <td>3</td>\n",
       "      <td>0</td>\n",
       "    </tr>\n",
       "    <tr>\n",
       "      <th>1431</th>\n",
       "      <td>0</td>\n",
       "      <td>19.0</td>\n",
       "      <td>14400.0</td>\n",
       "      <td>2</td>\n",
       "      <td>0</td>\n",
       "    </tr>\n",
       "    <tr>\n",
       "      <th>2483</th>\n",
       "      <td>1</td>\n",
       "      <td>33.0</td>\n",
       "      <td>53000.0</td>\n",
       "      <td>1</td>\n",
       "      <td>0</td>\n",
       "    </tr>\n",
       "    <tr>\n",
       "      <th>193</th>\n",
       "      <td>0</td>\n",
       "      <td>23.0</td>\n",
       "      <td>43600.0</td>\n",
       "      <td>0</td>\n",
       "      <td>0</td>\n",
       "    </tr>\n",
       "  </tbody>\n",
       "</table>\n",
       "</div>"
      ],
      "text/plain": [
       "      gender   age   income  family_members  insurance_benefits\n",
       "2077       1  49.0  37900.0               5                   1\n",
       "3372       0  42.0  23000.0               2                   0\n",
       "4516       1  28.0  38100.0               0                   0\n",
       "2882       1  37.0  42300.0               1                   0\n",
       "2033       1  25.0  50900.0               0                   0\n",
       "4397       0  34.0  42200.0               0                   0\n",
       "1120       1  33.0  21700.0               3                   0\n",
       "1431       0  19.0  14400.0               2                   0\n",
       "2483       1  33.0  53000.0               1                   0\n",
       "193        0  23.0  43600.0               0                   0"
      ]
     },
     "execution_count": 4,
     "metadata": {},
     "output_type": "execute_result"
    }
   ],
   "source": [
    "df.sample(10)"
   ]
  },
  {
   "cell_type": "code",
   "execution_count": 5,
   "metadata": {
    "scrolled": true
   },
   "outputs": [
    {
     "name": "stdout",
     "output_type": "stream",
     "text": [
      "<class 'pandas.core.frame.DataFrame'>\n",
      "RangeIndex: 5000 entries, 0 to 4999\n",
      "Data columns (total 5 columns):\n",
      " #   Column              Non-Null Count  Dtype  \n",
      "---  ------              --------------  -----  \n",
      " 0   gender              5000 non-null   int64  \n",
      " 1   age                 5000 non-null   float64\n",
      " 2   income              5000 non-null   float64\n",
      " 3   family_members      5000 non-null   int64  \n",
      " 4   insurance_benefits  5000 non-null   int64  \n",
      "dtypes: float64(2), int64(3)\n",
      "memory usage: 195.4 KB\n"
     ]
    }
   ],
   "source": [
    "df.info()"
   ]
  },
  {
   "cell_type": "code",
   "execution_count": 6,
   "metadata": {},
   "outputs": [],
   "source": [
    "# puede que queramos cambiar el tipo de edad (de float a int) aunque esto no es crucial\n",
    "\n",
    "# escribe tu conversión aquí si lo deseas:\n",
    "\n",
    "df['age'] = df['age'].astype(int)"
   ]
  },
  {
   "cell_type": "code",
   "execution_count": 7,
   "metadata": {},
   "outputs": [
    {
     "name": "stdout",
     "output_type": "stream",
     "text": [
      "<class 'pandas.core.frame.DataFrame'>\n",
      "RangeIndex: 5000 entries, 0 to 4999\n",
      "Data columns (total 5 columns):\n",
      " #   Column              Non-Null Count  Dtype  \n",
      "---  ------              --------------  -----  \n",
      " 0   gender              5000 non-null   int64  \n",
      " 1   age                 5000 non-null   int64  \n",
      " 2   income              5000 non-null   float64\n",
      " 3   family_members      5000 non-null   int64  \n",
      " 4   insurance_benefits  5000 non-null   int64  \n",
      "dtypes: float64(1), int64(4)\n",
      "memory usage: 195.4 KB\n"
     ]
    }
   ],
   "source": [
    "# comprueba que la conversión se haya realizado con éxito\n",
    "df.info()"
   ]
  },
  {
   "cell_type": "code",
   "execution_count": 8,
   "metadata": {},
   "outputs": [
    {
     "data": {
      "text/html": [
       "<div>\n",
       "<style scoped>\n",
       "    .dataframe tbody tr th:only-of-type {\n",
       "        vertical-align: middle;\n",
       "    }\n",
       "\n",
       "    .dataframe tbody tr th {\n",
       "        vertical-align: top;\n",
       "    }\n",
       "\n",
       "    .dataframe thead th {\n",
       "        text-align: right;\n",
       "    }\n",
       "</style>\n",
       "<table border=\"1\" class=\"dataframe\">\n",
       "  <thead>\n",
       "    <tr style=\"text-align: right;\">\n",
       "      <th></th>\n",
       "      <th>gender</th>\n",
       "      <th>age</th>\n",
       "      <th>income</th>\n",
       "      <th>family_members</th>\n",
       "      <th>insurance_benefits</th>\n",
       "    </tr>\n",
       "  </thead>\n",
       "  <tbody>\n",
       "    <tr>\n",
       "      <th>count</th>\n",
       "      <td>5000.000000</td>\n",
       "      <td>5000.000000</td>\n",
       "      <td>5000.000000</td>\n",
       "      <td>5000.000000</td>\n",
       "      <td>5000.000000</td>\n",
       "    </tr>\n",
       "    <tr>\n",
       "      <th>mean</th>\n",
       "      <td>0.499000</td>\n",
       "      <td>30.952800</td>\n",
       "      <td>39916.360000</td>\n",
       "      <td>1.194200</td>\n",
       "      <td>0.148000</td>\n",
       "    </tr>\n",
       "    <tr>\n",
       "      <th>std</th>\n",
       "      <td>0.500049</td>\n",
       "      <td>8.440807</td>\n",
       "      <td>9900.083569</td>\n",
       "      <td>1.091387</td>\n",
       "      <td>0.463183</td>\n",
       "    </tr>\n",
       "    <tr>\n",
       "      <th>min</th>\n",
       "      <td>0.000000</td>\n",
       "      <td>18.000000</td>\n",
       "      <td>5300.000000</td>\n",
       "      <td>0.000000</td>\n",
       "      <td>0.000000</td>\n",
       "    </tr>\n",
       "    <tr>\n",
       "      <th>25%</th>\n",
       "      <td>0.000000</td>\n",
       "      <td>24.000000</td>\n",
       "      <td>33300.000000</td>\n",
       "      <td>0.000000</td>\n",
       "      <td>0.000000</td>\n",
       "    </tr>\n",
       "    <tr>\n",
       "      <th>50%</th>\n",
       "      <td>0.000000</td>\n",
       "      <td>30.000000</td>\n",
       "      <td>40200.000000</td>\n",
       "      <td>1.000000</td>\n",
       "      <td>0.000000</td>\n",
       "    </tr>\n",
       "    <tr>\n",
       "      <th>75%</th>\n",
       "      <td>1.000000</td>\n",
       "      <td>37.000000</td>\n",
       "      <td>46600.000000</td>\n",
       "      <td>2.000000</td>\n",
       "      <td>0.000000</td>\n",
       "    </tr>\n",
       "    <tr>\n",
       "      <th>max</th>\n",
       "      <td>1.000000</td>\n",
       "      <td>65.000000</td>\n",
       "      <td>79000.000000</td>\n",
       "      <td>6.000000</td>\n",
       "      <td>5.000000</td>\n",
       "    </tr>\n",
       "  </tbody>\n",
       "</table>\n",
       "</div>"
      ],
      "text/plain": [
       "            gender          age        income  family_members  \\\n",
       "count  5000.000000  5000.000000   5000.000000     5000.000000   \n",
       "mean      0.499000    30.952800  39916.360000        1.194200   \n",
       "std       0.500049     8.440807   9900.083569        1.091387   \n",
       "min       0.000000    18.000000   5300.000000        0.000000   \n",
       "25%       0.000000    24.000000  33300.000000        0.000000   \n",
       "50%       0.000000    30.000000  40200.000000        1.000000   \n",
       "75%       1.000000    37.000000  46600.000000        2.000000   \n",
       "max       1.000000    65.000000  79000.000000        6.000000   \n",
       "\n",
       "       insurance_benefits  \n",
       "count         5000.000000  \n",
       "mean             0.148000  \n",
       "std              0.463183  \n",
       "min              0.000000  \n",
       "25%              0.000000  \n",
       "50%              0.000000  \n",
       "75%              0.000000  \n",
       "max              5.000000  "
      ]
     },
     "execution_count": 8,
     "metadata": {},
     "output_type": "execute_result"
    }
   ],
   "source": [
    "# ahora echa un vistazo a las estadísticas descriptivas de los datos.# ¿Se ve todo bien?\n",
    "df.describe()"
   ]
  },
  {
   "cell_type": "markdown",
   "metadata": {},
   "source": [
    "En la descripción de los datos veo que todas las columnas estan completas, no hay datos faltantes.\n",
    "\n",
    "En la columna ´age´ la edad media es 30 años con una varianza +- de 8 años. La edad mínima es 18 años y la edad máxima es 65 años.\n",
    "\n",
    "En la columna ´income´ el ingreso medio es de 40000 dólares con una variabilidad mayor o menor de 1000 dólares. "
   ]
  },
  {
   "cell_type": "markdown",
   "metadata": {},
   "source": [
    "## Análisis exploratorio de datos"
   ]
  },
  {
   "cell_type": "markdown",
   "metadata": {},
   "source": [
    "Vamos a comprobar rápidamente si existen determinados grupos de clientes observando el gráfico de pares."
   ]
  },
  {
   "cell_type": "code",
   "execution_count": 9,
   "metadata": {},
   "outputs": [
    {
     "data": {
      "image/png": "[encoded data removed]",
      "text/plain": [
       "<Figure size 1200x1200 with 30 Axes>"
      ]
     },
     "metadata": {},
     "output_type": "display_data"
    }
   ],
   "source": [
    "g = sns.pairplot(df, kind='hist')\n",
    "g.fig.set_size_inches(12, 12)"
   ]
  },
  {
   "cell_type": "markdown",
   "metadata": {},
   "source": [
    "De acuerdo, es un poco complicado detectar grupos obvios (clústeres) ya que es difícil combinar diversas variables simultáneamente (para analizar distribuciones multivariadas). Ahí es donde LA y ML pueden ser bastante útiles."
   ]
  },
  {
   "cell_type": "markdown",
   "metadata": {},
   "source": [
    "# Tarea 1. Clientes similares"
   ]
  },
  {
   "cell_type": "markdown",
   "metadata": {},
   "source": [
    "En el lenguaje de ML, es necesario desarrollar un procedimiento que devuelva los k vecinos más cercanos (objetos) para un objeto dado basándose en la distancia entre los objetos.\n",
    "Es posible que quieras revisar las siguientes lecciones (capítulo -> lección)- Distancia entre vectores -> Distancia euclidiana\n",
    "- Distancia entre vectores -> Distancia Manhattan\n",
    "\n",
    "Para resolver la tarea, podemos probar diferentes métricas de distancia."
   ]
  },
  {
   "cell_type": "markdown",
   "metadata": {},
   "source": [
    "Escribe una función que devuelva los k vecinos más cercanos para un $n^{th}$ objeto basándose en una métrica de distancia especificada. A la hora de realizar esta tarea no debe tenerse en cuenta el número de prestaciones de seguro recibidas.\n",
    "Puedes utilizar una implementación ya existente del algoritmo kNN de scikit-learn (consulta [el enlace](https://scikit-learn.org/stable/modules/generated/sklearn.neighbors.NearestNeighbors.html#sklearn.neighbors.NearestNeighbors)) o tu propia implementación.\n",
    "Pruébalo para cuatro combinaciones de dos casos- Escalado\n",
    "  - los datos no están escalados\n",
    "  - los datos se escalan con el escalador [MaxAbsScaler](https://scikit-learn.org/stable/modules/generated/sklearn.preprocessing.MaxAbsScaler.html)\n",
    "- Métricas de distancia\n",
    "  - Euclidiana\n",
    "  - Manhattan\n",
    "\n",
    "Responde a estas preguntas:- ¿El hecho de que los datos no estén escalados afecta al algoritmo kNN? Si es así, ¿cómo se manifiesta?- ¿Qué tan similares son los resultados al utilizar la métrica de distancia Manhattan (independientemente del escalado)?"
   ]
  },
  {
   "cell_type": "code",
   "execution_count": 10,
   "metadata": {},
   "outputs": [],
   "source": [
    "feature_names = ['gender', 'age', 'income', 'family_members']"
   ]
  },
  {
   "cell_type": "code",
   "execution_count": 11,
   "metadata": {},
   "outputs": [],
   "source": [
    "def get_knn(df, n, k, metric):\n",
    "    \n",
    "    \"\"\"\n",
    "    Devuelve los k vecinos más cercanos\n",
    "\n",
    "    :param df: DataFrame de pandas utilizado para encontrar objetos similares dentro del mismo lugar    \n",
    "    :param n: número de objetos para los que se buscan los vecinos más cercanos   \n",
    "    :param k: número de vecinos más cercanos a devolver\n",
    "    :param métrica: nombre de la métrica de distancia    \"\"\"\n",
    "\n",
    "    model = df[feature_names].values\n",
    "    \n",
    "    nbrs = NearestNeighbors(n_neighbors=k, metric=metric)\n",
    "    nbrs.fit(model)\n",
    "    \n",
    "    \n",
    "    nbrs_distances, nbrs_indices = nbrs.kneighbors([df.iloc[n][feature_names]], k, return_distance=True)\n",
    "    \n",
    "    df_res = pd.concat([\n",
    "        df.iloc[nbrs_indices[0]], \n",
    "        pd.DataFrame(nbrs_distances.T, index=nbrs_indices[0], columns=['distance'])\n",
    "        ], axis=1)\n",
    "    \n",
    "    return df_res"
   ]
  },
  {
   "cell_type": "markdown",
   "metadata": {},
   "source": [
    "Escalar datos."
   ]
  },
  {
   "cell_type": "code",
   "execution_count": 12,
   "metadata": {},
   "outputs": [],
   "source": [
    "feature_names = ['gender', 'age', 'income', 'family_members']\n",
    "\n",
    "transformer_mas = sklearn.preprocessing.MaxAbsScaler().fit(df[feature_names].to_numpy())\n",
    "\n",
    "df_scaled = df.copy()\n",
    "df_scaled.loc[:, feature_names] = transformer_mas.transform(df[feature_names].to_numpy())"
   ]
  },
  {
   "cell_type": "code",
   "execution_count": 13,
   "metadata": {
    "scrolled": true
   },
   "outputs": [
    {
     "data": {
      "text/html": [
       "<div>\n",
       "<style scoped>\n",
       "    .dataframe tbody tr th:only-of-type {\n",
       "        vertical-align: middle;\n",
       "    }\n",
       "\n",
       "    .dataframe tbody tr th {\n",
       "        vertical-align: top;\n",
       "    }\n",
       "\n",
       "    .dataframe thead th {\n",
       "        text-align: right;\n",
       "    }\n",
       "</style>\n",
       "<table border=\"1\" class=\"dataframe\">\n",
       "  <thead>\n",
       "    <tr style=\"text-align: right;\">\n",
       "      <th></th>\n",
       "      <th>gender</th>\n",
       "      <th>age</th>\n",
       "      <th>income</th>\n",
       "      <th>family_members</th>\n",
       "      <th>insurance_benefits</th>\n",
       "    </tr>\n",
       "  </thead>\n",
       "  <tbody>\n",
       "    <tr>\n",
       "      <th>4932</th>\n",
       "      <td>0.0</td>\n",
       "      <td>0.584615</td>\n",
       "      <td>0.578481</td>\n",
       "      <td>0.333333</td>\n",
       "      <td>0</td>\n",
       "    </tr>\n",
       "    <tr>\n",
       "      <th>3961</th>\n",
       "      <td>0.0</td>\n",
       "      <td>0.430769</td>\n",
       "      <td>0.525316</td>\n",
       "      <td>0.166667</td>\n",
       "      <td>0</td>\n",
       "    </tr>\n",
       "    <tr>\n",
       "      <th>2106</th>\n",
       "      <td>1.0</td>\n",
       "      <td>0.307692</td>\n",
       "      <td>0.456962</td>\n",
       "      <td>0.000000</td>\n",
       "      <td>0</td>\n",
       "    </tr>\n",
       "    <tr>\n",
       "      <th>2370</th>\n",
       "      <td>1.0</td>\n",
       "      <td>0.600000</td>\n",
       "      <td>0.624051</td>\n",
       "      <td>0.500000</td>\n",
       "      <td>0</td>\n",
       "    </tr>\n",
       "    <tr>\n",
       "      <th>493</th>\n",
       "      <td>1.0</td>\n",
       "      <td>0.523077</td>\n",
       "      <td>0.554430</td>\n",
       "      <td>0.333333</td>\n",
       "      <td>0</td>\n",
       "    </tr>\n",
       "  </tbody>\n",
       "</table>\n",
       "</div>"
      ],
      "text/plain": [
       "      gender       age    income  family_members  insurance_benefits\n",
       "4932     0.0  0.584615  0.578481        0.333333                   0\n",
       "3961     0.0  0.430769  0.525316        0.166667                   0\n",
       "2106     1.0  0.307692  0.456962        0.000000                   0\n",
       "2370     1.0  0.600000  0.624051        0.500000                   0\n",
       "493      1.0  0.523077  0.554430        0.333333                   0"
      ]
     },
     "execution_count": 13,
     "metadata": {},
     "output_type": "execute_result"
    }
   ],
   "source": [
    "df_scaled.sample(5)"
   ]
  },
  {
   "cell_type": "markdown",
   "metadata": {},
   "source": [
    "Ahora, vamos a obtener registros similares para uno determinado, para cada combinación"
   ]
  },
  {
   "cell_type": "code",
   "execution_count": 14,
   "metadata": {
    "scrolled": true
   },
   "outputs": [
    {
     "data": {
      "text/html": [
       "<div>\n",
       "<style scoped>\n",
       "    .dataframe tbody tr th:only-of-type {\n",
       "        vertical-align: middle;\n",
       "    }\n",
       "\n",
       "    .dataframe tbody tr th {\n",
       "        vertical-align: top;\n",
       "    }\n",
       "\n",
       "    .dataframe thead th {\n",
       "        text-align: right;\n",
       "    }\n",
       "</style>\n",
       "<table border=\"1\" class=\"dataframe\">\n",
       "  <thead>\n",
       "    <tr style=\"text-align: right;\">\n",
       "      <th></th>\n",
       "      <th>gender</th>\n",
       "      <th>age</th>\n",
       "      <th>income</th>\n",
       "      <th>family_members</th>\n",
       "      <th>insurance_benefits</th>\n",
       "      <th>distance</th>\n",
       "    </tr>\n",
       "  </thead>\n",
       "  <tbody>\n",
       "    <tr>\n",
       "      <th>10</th>\n",
       "      <td>1.0</td>\n",
       "      <td>0.384615</td>\n",
       "      <td>0.463291</td>\n",
       "      <td>0.166667</td>\n",
       "      <td>0</td>\n",
       "      <td>0.000000</td>\n",
       "    </tr>\n",
       "    <tr>\n",
       "      <th>4377</th>\n",
       "      <td>1.0</td>\n",
       "      <td>0.384615</td>\n",
       "      <td>0.473418</td>\n",
       "      <td>0.166667</td>\n",
       "      <td>0</td>\n",
       "      <td>0.010127</td>\n",
       "    </tr>\n",
       "    <tr>\n",
       "      <th>1389</th>\n",
       "      <td>1.0</td>\n",
       "      <td>0.369231</td>\n",
       "      <td>0.464557</td>\n",
       "      <td>0.166667</td>\n",
       "      <td>0</td>\n",
       "      <td>0.015437</td>\n",
       "    </tr>\n",
       "    <tr>\n",
       "      <th>760</th>\n",
       "      <td>1.0</td>\n",
       "      <td>0.369231</td>\n",
       "      <td>0.462025</td>\n",
       "      <td>0.166667</td>\n",
       "      <td>0</td>\n",
       "      <td>0.015437</td>\n",
       "    </tr>\n",
       "    <tr>\n",
       "      <th>2254</th>\n",
       "      <td>1.0</td>\n",
       "      <td>0.400000</td>\n",
       "      <td>0.455696</td>\n",
       "      <td>0.166667</td>\n",
       "      <td>0</td>\n",
       "      <td>0.017157</td>\n",
       "    </tr>\n",
       "  </tbody>\n",
       "</table>\n",
       "</div>"
      ],
      "text/plain": [
       "      gender       age    income  family_members  insurance_benefits  distance\n",
       "10       1.0  0.384615  0.463291        0.166667                   0  0.000000\n",
       "4377     1.0  0.384615  0.473418        0.166667                   0  0.010127\n",
       "1389     1.0  0.369231  0.464557        0.166667                   0  0.015437\n",
       "760      1.0  0.369231  0.462025        0.166667                   0  0.015437\n",
       "2254     1.0  0.400000  0.455696        0.166667                   0  0.017157"
      ]
     },
     "execution_count": 14,
     "metadata": {},
     "output_type": "execute_result"
    }
   ],
   "source": [
    "get_knn(df_scaled, n=10, k=5, metric= 'euclidean')"
   ]
  },
  {
   "cell_type": "code",
   "execution_count": 15,
   "metadata": {},
   "outputs": [
    {
     "data": {
      "text/html": [
       "<div>\n",
       "<style scoped>\n",
       "    .dataframe tbody tr th:only-of-type {\n",
       "        vertical-align: middle;\n",
       "    }\n",
       "\n",
       "    .dataframe tbody tr th {\n",
       "        vertical-align: top;\n",
       "    }\n",
       "\n",
       "    .dataframe thead th {\n",
       "        text-align: right;\n",
       "    }\n",
       "</style>\n",
       "<table border=\"1\" class=\"dataframe\">\n",
       "  <thead>\n",
       "    <tr style=\"text-align: right;\">\n",
       "      <th></th>\n",
       "      <th>gender</th>\n",
       "      <th>age</th>\n",
       "      <th>income</th>\n",
       "      <th>family_members</th>\n",
       "      <th>insurance_benefits</th>\n",
       "      <th>distance</th>\n",
       "    </tr>\n",
       "  </thead>\n",
       "  <tbody>\n",
       "    <tr>\n",
       "      <th>10</th>\n",
       "      <td>1.0</td>\n",
       "      <td>0.384615</td>\n",
       "      <td>0.463291</td>\n",
       "      <td>0.166667</td>\n",
       "      <td>0</td>\n",
       "      <td>0.000000</td>\n",
       "    </tr>\n",
       "    <tr>\n",
       "      <th>4377</th>\n",
       "      <td>1.0</td>\n",
       "      <td>0.384615</td>\n",
       "      <td>0.473418</td>\n",
       "      <td>0.166667</td>\n",
       "      <td>0</td>\n",
       "      <td>0.010127</td>\n",
       "    </tr>\n",
       "    <tr>\n",
       "      <th>1389</th>\n",
       "      <td>1.0</td>\n",
       "      <td>0.369231</td>\n",
       "      <td>0.464557</td>\n",
       "      <td>0.166667</td>\n",
       "      <td>0</td>\n",
       "      <td>0.016650</td>\n",
       "    </tr>\n",
       "    <tr>\n",
       "      <th>760</th>\n",
       "      <td>1.0</td>\n",
       "      <td>0.369231</td>\n",
       "      <td>0.462025</td>\n",
       "      <td>0.166667</td>\n",
       "      <td>0</td>\n",
       "      <td>0.016650</td>\n",
       "    </tr>\n",
       "    <tr>\n",
       "      <th>2254</th>\n",
       "      <td>1.0</td>\n",
       "      <td>0.400000</td>\n",
       "      <td>0.455696</td>\n",
       "      <td>0.166667</td>\n",
       "      <td>0</td>\n",
       "      <td>0.022980</td>\n",
       "    </tr>\n",
       "  </tbody>\n",
       "</table>\n",
       "</div>"
      ],
      "text/plain": [
       "      gender       age    income  family_members  insurance_benefits  distance\n",
       "10       1.0  0.384615  0.463291        0.166667                   0  0.000000\n",
       "4377     1.0  0.384615  0.473418        0.166667                   0  0.010127\n",
       "1389     1.0  0.369231  0.464557        0.166667                   0  0.016650\n",
       "760      1.0  0.369231  0.462025        0.166667                   0  0.016650\n",
       "2254     1.0  0.400000  0.455696        0.166667                   0  0.022980"
      ]
     },
     "execution_count": 15,
     "metadata": {},
     "output_type": "execute_result"
    }
   ],
   "source": [
    "get_knn(df_scaled, n=10, k=5, metric= 'manhattan')"
   ]
  },
  {
   "cell_type": "code",
   "execution_count": 16,
   "metadata": {},
   "outputs": [
    {
     "data": {
      "text/html": [
       "<div>\n",
       "<style scoped>\n",
       "    .dataframe tbody tr th:only-of-type {\n",
       "        vertical-align: middle;\n",
       "    }\n",
       "\n",
       "    .dataframe tbody tr th {\n",
       "        vertical-align: top;\n",
       "    }\n",
       "\n",
       "    .dataframe thead th {\n",
       "        text-align: right;\n",
       "    }\n",
       "</style>\n",
       "<table border=\"1\" class=\"dataframe\">\n",
       "  <thead>\n",
       "    <tr style=\"text-align: right;\">\n",
       "      <th></th>\n",
       "      <th>gender</th>\n",
       "      <th>age</th>\n",
       "      <th>income</th>\n",
       "      <th>family_members</th>\n",
       "      <th>insurance_benefits</th>\n",
       "      <th>distance</th>\n",
       "    </tr>\n",
       "  </thead>\n",
       "  <tbody>\n",
       "    <tr>\n",
       "      <th>10</th>\n",
       "      <td>1</td>\n",
       "      <td>25</td>\n",
       "      <td>36600.0</td>\n",
       "      <td>1</td>\n",
       "      <td>0</td>\n",
       "      <td>0.000000</td>\n",
       "    </tr>\n",
       "    <tr>\n",
       "      <th>4039</th>\n",
       "      <td>1</td>\n",
       "      <td>25</td>\n",
       "      <td>36600.0</td>\n",
       "      <td>2</td>\n",
       "      <td>0</td>\n",
       "      <td>1.000000</td>\n",
       "    </tr>\n",
       "    <tr>\n",
       "      <th>2037</th>\n",
       "      <td>1</td>\n",
       "      <td>26</td>\n",
       "      <td>36600.0</td>\n",
       "      <td>0</td>\n",
       "      <td>0</td>\n",
       "      <td>1.414214</td>\n",
       "    </tr>\n",
       "    <tr>\n",
       "      <th>3247</th>\n",
       "      <td>1</td>\n",
       "      <td>26</td>\n",
       "      <td>36600.0</td>\n",
       "      <td>2</td>\n",
       "      <td>0</td>\n",
       "      <td>1.414214</td>\n",
       "    </tr>\n",
       "    <tr>\n",
       "      <th>1508</th>\n",
       "      <td>0</td>\n",
       "      <td>26</td>\n",
       "      <td>36600.0</td>\n",
       "      <td>0</td>\n",
       "      <td>0</td>\n",
       "      <td>1.732051</td>\n",
       "    </tr>\n",
       "  </tbody>\n",
       "</table>\n",
       "</div>"
      ],
      "text/plain": [
       "      gender  age   income  family_members  insurance_benefits  distance\n",
       "10         1   25  36600.0               1                   0  0.000000\n",
       "4039       1   25  36600.0               2                   0  1.000000\n",
       "2037       1   26  36600.0               0                   0  1.414214\n",
       "3247       1   26  36600.0               2                   0  1.414214\n",
       "1508       0   26  36600.0               0                   0  1.732051"
      ]
     },
     "execution_count": 16,
     "metadata": {},
     "output_type": "execute_result"
    }
   ],
   "source": [
    "get_knn(df, n=10, k=5, metric= 'euclidean')"
   ]
  },
  {
   "cell_type": "code",
   "execution_count": 17,
   "metadata": {},
   "outputs": [
    {
     "data": {
      "text/html": [
       "<div>\n",
       "<style scoped>\n",
       "    .dataframe tbody tr th:only-of-type {\n",
       "        vertical-align: middle;\n",
       "    }\n",
       "\n",
       "    .dataframe tbody tr th {\n",
       "        vertical-align: top;\n",
       "    }\n",
       "\n",
       "    .dataframe thead th {\n",
       "        text-align: right;\n",
       "    }\n",
       "</style>\n",
       "<table border=\"1\" class=\"dataframe\">\n",
       "  <thead>\n",
       "    <tr style=\"text-align: right;\">\n",
       "      <th></th>\n",
       "      <th>gender</th>\n",
       "      <th>age</th>\n",
       "      <th>income</th>\n",
       "      <th>family_members</th>\n",
       "      <th>insurance_benefits</th>\n",
       "      <th>distance</th>\n",
       "    </tr>\n",
       "  </thead>\n",
       "  <tbody>\n",
       "    <tr>\n",
       "      <th>10</th>\n",
       "      <td>1</td>\n",
       "      <td>25</td>\n",
       "      <td>36600.0</td>\n",
       "      <td>1</td>\n",
       "      <td>0</td>\n",
       "      <td>0.0</td>\n",
       "    </tr>\n",
       "    <tr>\n",
       "      <th>4039</th>\n",
       "      <td>1</td>\n",
       "      <td>25</td>\n",
       "      <td>36600.0</td>\n",
       "      <td>2</td>\n",
       "      <td>0</td>\n",
       "      <td>1.0</td>\n",
       "    </tr>\n",
       "    <tr>\n",
       "      <th>2037</th>\n",
       "      <td>1</td>\n",
       "      <td>26</td>\n",
       "      <td>36600.0</td>\n",
       "      <td>0</td>\n",
       "      <td>0</td>\n",
       "      <td>2.0</td>\n",
       "    </tr>\n",
       "    <tr>\n",
       "      <th>3247</th>\n",
       "      <td>1</td>\n",
       "      <td>26</td>\n",
       "      <td>36600.0</td>\n",
       "      <td>2</td>\n",
       "      <td>0</td>\n",
       "      <td>2.0</td>\n",
       "    </tr>\n",
       "    <tr>\n",
       "      <th>1508</th>\n",
       "      <td>0</td>\n",
       "      <td>26</td>\n",
       "      <td>36600.0</td>\n",
       "      <td>0</td>\n",
       "      <td>0</td>\n",
       "      <td>3.0</td>\n",
       "    </tr>\n",
       "  </tbody>\n",
       "</table>\n",
       "</div>"
      ],
      "text/plain": [
       "      gender  age   income  family_members  insurance_benefits  distance\n",
       "10         1   25  36600.0               1                   0       0.0\n",
       "4039       1   25  36600.0               2                   0       1.0\n",
       "2037       1   26  36600.0               0                   0       2.0\n",
       "3247       1   26  36600.0               2                   0       2.0\n",
       "1508       0   26  36600.0               0                   0       3.0"
      ]
     },
     "execution_count": 17,
     "metadata": {},
     "output_type": "execute_result"
    }
   ],
   "source": [
    "get_knn(df, n=10, k=5, metric= 'manhattan')"
   ]
  },
  {
   "cell_type": "markdown",
   "metadata": {},
   "source": [
    "Respuestas a las preguntas"
   ]
  },
  {
   "cell_type": "markdown",
   "metadata": {},
   "source": [
    "**¿El hecho de que los datos no estén escalados afecta al algoritmo kNN? Si es así, ¿cómo se manifiesta?** \n",
    "\n",
    "Sí, el hecho de que los datos no estén escalados afecta significativamente al algoritmo kNN. Porque este calcula las distancias entre los puntos de datos para determinar qué vecinos cercanos son los más similares a un punto dado. Si las características (o variables) tienen diferentes escalas o unidades, algunas características tendrán una influencia mucho mayor en el cálculo de la distancia, lo que puede distorsionar los resultados del algoritmo."
   ]
  },
  {
   "cell_type": "markdown",
   "metadata": {},
   "source": [
    "**¿Qué tan similares son los resultados al utilizar la métrica de distancia Manhattan (independientemente del escalado)?** \n",
    "\n",
    "Independientemente de si los datos están escalados o no, los resultados de kNN usando la métrica Manhattan pueden ser similares a los de la distancia euclidiana, pero hay algunas diferencias notables en cómo se comporta el modelo, debido a las características de cada métrica. Observamos que en el primer y segundo grupo se mantienen iguales, empezando a verse cambios a partir del tercer grupo."
   ]
  },
  {
   "cell_type": "markdown",
   "metadata": {},
   "source": [
    "# Tarea 2. ¿Es probable que el cliente reciba una prestación del seguro?"
   ]
  },
  {
   "cell_type": "markdown",
   "metadata": {},
   "source": [
    "En términos de machine learning podemos considerarlo como una tarea de clasificación binaria."
   ]
  },
  {
   "cell_type": "markdown",
   "metadata": {},
   "source": [
    "Con el valor de `insurance_benefits` superior a cero como objetivo, evalúa si el enfoque de clasificación kNN puede funcionar mejor que el modelo dummy.\n",
    "Instrucciones:\n",
    "- Construye un clasificador basado en KNN y mide su calidad con la métrica F1 para k=1...10 tanto para los datos originales como para los escalados. Sería interesante observar cómo k puede influir en la métrica de evaluación y si el escalado de los datos provoca alguna diferencia. Puedes utilizar una implementación ya existente del algoritmo de clasificación kNN de scikit-learn (consulta [el enlace](https://scikit-learn.org/stable/modules/generated/sklearn.neighbors.KNeighborsClassifier.html)) o tu propia implementación.- Construye un modelo dummy que, en este caso, es simplemente un modelo aleatorio. Debería devolver \"1\" con cierta probabilidad. Probemos el modelo con cuatro valores de probabilidad: 0, la probabilidad de pagar cualquier prestación del seguro, 0.5, 1.\n",
    "La probabilidad de pagar cualquier prestación del seguro puede definirse como\n",
    "$$\n",
    "P\\{\\text{prestación de seguro recibida}\\}=\\frac{\\text{número de clientes que han recibido alguna prestación de seguro}}{\\text{número total de clientes}}.\n",
    "$$\n",
    "\n",
    "Divide todos los datos correspondientes a las etapas de entrenamiento/prueba respetando la proporción 70:30."
   ]
  },
  {
   "cell_type": "code",
   "execution_count": 18,
   "metadata": {},
   "outputs": [],
   "source": [
    "# сalcula el objetivo\n",
    "df['insurance_benefits_received'] = (df['insurance_benefits'] > 0).astype(int)"
   ]
  },
  {
   "cell_type": "code",
   "execution_count": 19,
   "metadata": {
    "scrolled": true
   },
   "outputs": [
    {
     "data": {
      "text/plain": [
       "0    4436\n",
       "1     564\n",
       "Name: insurance_benefits_received, dtype: int64"
      ]
     },
     "execution_count": 19,
     "metadata": {},
     "output_type": "execute_result"
    }
   ],
   "source": [
    "# comprueba el desequilibrio de clases con value_counts()\n",
    "df['insurance_benefits_received'].value_counts()"
   ]
  },
  {
   "cell_type": "code",
   "execution_count": 20,
   "metadata": {},
   "outputs": [],
   "source": [
    "def eval_classifier(y_true, y_pred):\n",
    "    \n",
    "    f1_score = sklearn.metrics.f1_score(y_true, y_pred)\n",
    "    print(f'F1: {f1_score:.2f}')\n",
    "    \n",
    "# si tienes algún problema con la siguiente línea, reinicia el kernel y ejecuta el cuaderno de nuevo  \n",
    "    cm = sklearn.metrics.confusion_matrix(y_true, y_pred, normalize='all')\n",
    "    print('Matriz de confusión')\n",
    "    print(cm)"
   ]
  },
  {
   "cell_type": "code",
   "execution_count": 21,
   "metadata": {},
   "outputs": [],
   "source": [
    "# generar la salida de un modelo aleatorio\n",
    "\n",
    "def rnd_model_predict(P, size, seed=42):\n",
    "\n",
    "    rng = np.random.default_rng(seed=seed)\n",
    "    return rng.binomial(n=1, p=P, size=size)"
   ]
  },
  {
   "cell_type": "code",
   "execution_count": 22,
   "metadata": {
    "scrolled": true
   },
   "outputs": [
    {
     "name": "stdout",
     "output_type": "stream",
     "text": [
      "La probabilidad: 0.00\n",
      "F1: 0.00\n",
      "Matriz de confusión\n",
      "[[0.8872 0.    ]\n",
      " [0.1128 0.    ]]\n",
      "\n",
      "La probabilidad: 0.11\n",
      "F1: 0.12\n",
      "Matriz de confusión\n",
      "[[0.7914 0.0958]\n",
      " [0.0994 0.0134]]\n",
      "\n",
      "La probabilidad: 0.50\n",
      "F1: 0.20\n",
      "Matriz de confusión\n",
      "[[0.456  0.4312]\n",
      " [0.053  0.0598]]\n",
      "\n",
      "La probabilidad: 1.00\n",
      "F1: 0.20\n",
      "Matriz de confusión\n",
      "[[0.     0.8872]\n",
      " [0.     0.1128]]\n",
      "\n"
     ]
    }
   ],
   "source": [
    "for P in [0, df['insurance_benefits_received'].sum() / len(df), 0.5, 1]:\n",
    "\n",
    "    print(f'La probabilidad: {P:.2f}')\n",
    "    \n",
    "    y_pred_rnd = rnd_model_predict(P, size=len(df))\n",
    "   \n",
    "    eval_classifier(df['insurance_benefits_received'], y_pred_rnd)\n",
    "    \n",
    "    print()"
   ]
  },
  {
   "cell_type": "code",
   "execution_count": 23,
   "metadata": {},
   "outputs": [],
   "source": [
    "features = df[['age', 'gender', 'income', 'family_members']].to_numpy()\n",
    "target = df['insurance_benefits_received'].to_numpy()\n",
    "\n",
    "features_train, features_test, target_train, target_test = train_test_split(features, target, test_size=0.3, random_state=12345)"
   ]
  },
  {
   "cell_type": "code",
   "execution_count": 24,
   "metadata": {},
   "outputs": [],
   "source": [
    "# Escalar los datos\n",
    "scaler = MaxAbsScaler()\n",
    "features_train_scaled = scaler.fit_transform(features_train)\n",
    "features_test_scaled = scaler.transform(features_test)"
   ]
  },
  {
   "cell_type": "code",
   "execution_count": 25,
   "metadata": {},
   "outputs": [],
   "source": [
    "# Lista para almacenar los resultados\n",
    "f1_scores_knn_original = []\n",
    "f1_scores_knn_scaled = []\n",
    "\n",
    "# Evaluación para k=1 hasta k=10\n",
    "for k in range(1, 11):\n",
    "    # Modelo kNN para datos originales\n",
    "    knn_original = KNeighborsClassifier(n_neighbors=k)\n",
    "    knn_original.fit(features_train, target_train)\n",
    "    y_pred_original = knn_original.predict(features_test)\n",
    "    f1_knn_original = f1_score(target_test, y_pred_original)\n",
    "    f1_scores_knn_original.append(f1_knn_original)\n",
    "    \n",
    "    # Modelo kNN para datos escalados\n",
    "    knn_scaled = KNeighborsClassifier(n_neighbors=k)\n",
    "    knn_scaled.fit(features_train_scaled, target_train)\n",
    "    y_pred_scaled = knn_scaled.predict(features_test_scaled)\n",
    "    f1_knn_scaled = f1_score(target_test, y_pred_scaled)\n",
    "    f1_scores_knn_scaled.append(f1_knn_scaled)\n"
   ]
  },
  {
   "cell_type": "code",
   "execution_count": 26,
   "metadata": {
    "scrolled": true
   },
   "outputs": [
    {
     "name": "stdout",
     "output_type": "stream",
     "text": [
      "F1 Scores para los datos originales:\n",
      "k=1: 0.6071\n",
      "k=2: 0.4057\n",
      "k=3: 0.4071\n",
      "k=4: 0.2784\n",
      "k=5: 0.2714\n",
      "k=6: 0.1143\n",
      "k=7: 0.1130\n",
      "k=8: 0.0710\n",
      "k=9: 0.0824\n",
      "k=10: 0.0000\n",
      "\n",
      "F1 Scores para los datos escalados:\n",
      "k=1: 0.9659\n",
      "k=2: 0.9281\n",
      "k=3: 0.9494\n",
      "k=4: 0.9079\n",
      "k=5: 0.9241\n",
      "k=6: 0.9037\n",
      "k=7: 0.9201\n",
      "k=8: 0.9013\n",
      "k=9: 0.9156\n",
      "k=10: 0.8792\n"
     ]
    }
   ],
   "source": [
    "# Imprimir los resultados para los datos originales y escalados\n",
    "print(\"F1 Scores para los datos originales:\")\n",
    "for k, f1_score in zip(range(1, 11), f1_scores_knn_original):\n",
    "    print(f'k={k}: {f1_score:.4f}')\n",
    "\n",
    "print(\"\\nF1 Scores para los datos escalados:\")\n",
    "for k, f1_score in zip(range(1, 11), f1_scores_knn_scaled):\n",
    "    print(f'k={k}: {f1_score:.4f}')"
   ]
  },
  {
   "cell_type": "markdown",
   "metadata": {},
   "source": [
    "- Predecir la probabilidad de que un nuevo cliente reciba una prestación del seguro. ¿Puede un modelo de predictivo funcionar mejor que un modelo dummy? \n",
    "\n",
    "Definitivamente si, al fijarnos en el f1 score de ambos modelos vemos que el mayor valor es 0.20 en el modelo dummy. Y en el modelo knn con los datos originales es de 0.60, y de 0.96 con los datos escalados.\n",
    "\n",
    "Por lo tanto, el modelo knn obtiene un mejor balance entre precisión y recall en comparación con el modelo dummy.\n"
   ]
  },
  {
   "cell_type": "markdown",
   "metadata": {},
   "source": [
    "# Tarea 3. Regresión (con regresión lineal)"
   ]
  },
  {
   "cell_type": "markdown",
   "metadata": {},
   "source": [
    "Con `insurance_benefits` como objetivo, evalúa cuál sería la RECM de un modelo de regresión lineal."
   ]
  },
  {
   "cell_type": "markdown",
   "metadata": {},
   "source": [
    "Construye tu propia implementación de regresión lineal. Para ello, recuerda cómo está formulada la solución de la tarea de regresión lineal en términos de LA. Comprueba la RECM tanto para los datos originales como para los escalados. ¿Puedes ver alguna diferencia en la RECM con respecto a estos dos casos?\n",
    "\n",
    "Denotemos- $X$: matriz de características; cada fila es un caso, cada columna es una característica, la primera columna está formada por unidades- $y$ — objetivo (un vector)- $\\hat{y}$ — objetivo estimado (un vector)- $w$ — vector de pesos\n",
    "La tarea de regresión lineal en el lenguaje de las matrices puede formularse así:\n",
    "$$\n",
    "y = Xw\n",
    "$$\n",
    "\n",
    "El objetivo de entrenamiento es entonces encontrar esa $w$ w que minimice la distancia L2 (ECM) entre $Xw$ y $y$:\n",
    "\n",
    "$$\n",
    "\\min_w d_2(Xw, y) \\quad \\text{or} \\quad \\min_w \\text{MSE}(Xw, y)\n",
    "$$\n",
    "\n",
    "Parece que hay una solución analítica para lo anteriormente expuesto:\n",
    "$$\n",
    "w = (X^T X)^{-1} X^T y\n",
    "$$\n",
    "\n",
    "La fórmula anterior puede servir para encontrar los pesos $w$ y estos últimos pueden utilizarse para calcular los valores predichos\n",
    "$$\n",
    "\\hat{y} = X_{val}w\n",
    "$$"
   ]
  },
  {
   "cell_type": "markdown",
   "metadata": {},
   "source": [
    "Divide todos los datos correspondientes a las etapas de entrenamiento/prueba respetando la proporción 70:30. Utiliza la métrica RECM para evaluar el modelo."
   ]
  },
  {
   "cell_type": "code",
   "execution_count": 27,
   "metadata": {},
   "outputs": [],
   "source": [
    "class MyLinearRegression:\n",
    "    \n",
    "    def __init__(self):\n",
    "        \n",
    "        self.weights = None\n",
    "    \n",
    "    def fit(self, X, y):\n",
    "        \n",
    "        # añadir las unidades\n",
    "        X2 = np.append(np.ones([len(X), 1]), X, axis=1)\n",
    "        self.weights = np.linalg.inv(X2.T @ X2) @ X2.T @ y # <tu código aquí>\n",
    "\n",
    "    def predict(self, X):\n",
    "        \n",
    "        # añadir las unidades\n",
    "        X2 = np.append(np.ones([len(X), 1]), X, axis=1) # <tu código aquí>\n",
    "        y_pred = X2 @ self.weights # <tu código aquí>\n",
    "        \n",
    "        return y_pred"
   ]
  },
  {
   "cell_type": "code",
   "execution_count": 28,
   "metadata": {},
   "outputs": [],
   "source": [
    "def eval_regressor(y_true, y_pred):\n",
    "    \n",
    "    rmse = math.sqrt(sklearn.metrics.mean_squared_error(y_true, y_pred))\n",
    "    print(f'RMSE: {rmse:.2f}')\n",
    "    \n",
    "\n",
    "    r2_score = math.sqrt(sklearn.metrics.r2_score(y_true, y_pred))\n",
    "    print(f'R2: {r2_score:.2f}')    "
   ]
  },
  {
   "cell_type": "code",
   "execution_count": 29,
   "metadata": {},
   "outputs": [
    {
     "name": "stdout",
     "output_type": "stream",
     "text": [
      "[-9.43539012e-01  3.57495491e-02  1.64272726e-02 -2.60743659e-07\n",
      " -1.16902127e-02]\n",
      "RMSE: 0.34\n",
      "R2: 0.66\n"
     ]
    }
   ],
   "source": [
    "X = df[['age', 'gender', 'income', 'family_members']].to_numpy()\n",
    "y = df['insurance_benefits'].to_numpy()\n",
    "\n",
    "X_train, X_test, y_train, y_test = train_test_split(X, y, test_size=0.3, random_state=12345)\n",
    "\n",
    "lr = MyLinearRegression()\n",
    "\n",
    "lr.fit(X_train, y_train)\n",
    "print(lr.weights)\n",
    "\n",
    "y_test_pred = lr.predict(X_test)\n",
    "eval_regressor(y_test, y_test_pred)"
   ]
  },
  {
   "cell_type": "code",
   "execution_count": 30,
   "metadata": {},
   "outputs": [],
   "source": [
    "scaler = MaxAbsScaler()\n",
    "X_train_scaled = scaler.fit_transform(X_train)\n",
    "X_test_scaled = scaler.transform(X_test)"
   ]
  },
  {
   "cell_type": "code",
   "execution_count": 31,
   "metadata": {},
   "outputs": [],
   "source": [
    "# Entrenar el modelo con los datos escalados\n",
    "model = LinearRegression()\n",
    "\n",
    "# Entrenar el modelo con los datos de entrenamiento\n",
    "model.fit(X_train_scaled, y_train)\n",
    "\n",
    "# Hacer predicciones con los datos de prueba\n",
    "y_pred = model.predict(X_test_scaled)\n"
   ]
  },
  {
   "cell_type": "code",
   "execution_count": 32,
   "metadata": {},
   "outputs": [
    {
     "name": "stdout",
     "output_type": "stream",
     "text": [
      "RMSE con datos escalados: 0.2695675549220764\n"
     ]
    }
   ],
   "source": [
    "# Calcular RMSE para los datos escalados\n",
    "mse_scaled = mean_squared_error(y_test, y_pred_scaled)\n",
    "rmse_scaled = np.sqrt(mse_scaled)\n",
    "print(f\"RMSE con datos escalados: {rmse_scaled}\")"
   ]
  },
  {
   "cell_type": "markdown",
   "metadata": {},
   "source": [
    "Vemos que el error se reduce con los datos escalados."
   ]
  },
  {
   "cell_type": "markdown",
   "metadata": {},
   "source": [
    "# Tarea 4. Ofuscar datos"
   ]
  },
  {
   "cell_type": "markdown",
   "metadata": {},
   "source": [
    "Lo mejor es ofuscar los datos multiplicando las características numéricas (recuerda que se pueden ver como la matriz $X$) por una matriz invertible $P$. \n",
    "\n",
    "$$\n",
    "X' = X \\times P\n",
    "$$\n",
    "\n",
    "Trata de hacerlo y comprueba cómo quedarán los valores de las características después de la transformación. Por cierto, la propiedad de invertibilidad es importante aquí, así que asegúrate de que $P$ sea realmente invertible.\n",
    "\n",
    "Puedes revisar la lección 'Matrices y operaciones matriciales -> Multiplicación de matrices' para recordar la regla de multiplicación de matrices y su implementación con NumPy."
   ]
  },
  {
   "cell_type": "code",
   "execution_count": 33,
   "metadata": {},
   "outputs": [],
   "source": [
    "personal_info_column_list = ['gender', 'age', 'income', 'family_members']\n",
    "df_pn = df[personal_info_column_list]"
   ]
  },
  {
   "cell_type": "code",
   "execution_count": 34,
   "metadata": {},
   "outputs": [],
   "source": [
    "X = df_pn.to_numpy()"
   ]
  },
  {
   "cell_type": "markdown",
   "metadata": {},
   "source": [
    "Generar una matriz aleatoria $P$."
   ]
  },
  {
   "cell_type": "code",
   "execution_count": 35,
   "metadata": {},
   "outputs": [],
   "source": [
    "rng = np.random.default_rng(seed=42)\n",
    "P = rng.random(size=(X.shape[1], X.shape[1]))"
   ]
  },
  {
   "cell_type": "markdown",
   "metadata": {},
   "source": [
    "Comprobar que la matriz P sea invertible"
   ]
  },
  {
   "cell_type": "code",
   "execution_count": 36,
   "metadata": {
    "scrolled": true
   },
   "outputs": [
    {
     "name": "stdout",
     "output_type": "stream",
     "text": [
      "La matriz P es invertible.\n"
     ]
    }
   ],
   "source": [
    "# Verificar si la matriz es invertible comprobando su determinante\n",
    "determinante = np.linalg.det(P)\n",
    "\n",
    "# Si el determinante es distinto de cero, la matriz es invertible\n",
    "if determinante != 0:\n",
    "    print(\"La matriz P es invertible.\")\n",
    "else:\n",
    "    print(\"La matriz P no es invertible.\")"
   ]
  },
  {
   "cell_type": "markdown",
   "metadata": {},
   "source": [
    "¿Puedes adivinar la edad o los ingresos de los clientes después de la transformación?"
   ]
  },
  {
   "cell_type": "code",
   "execution_count": 37,
   "metadata": {},
   "outputs": [],
   "source": [
    "T = X @ P"
   ]
  },
  {
   "cell_type": "code",
   "execution_count": 38,
   "metadata": {},
   "outputs": [],
   "source": [
    "dfT = pd.DataFrame(T, columns=df_pn.columns)\n",
    "df2 = pd.concat([df, dfT], axis=1, keys=['original', 'transformed'])"
   ]
  },
  {
   "cell_type": "code",
   "execution_count": 39,
   "metadata": {
    "scrolled": true
   },
   "outputs": [
    {
     "data": {
      "text/html": [
       "<div>\n",
       "<style scoped>\n",
       "    .dataframe tbody tr th:only-of-type {\n",
       "        vertical-align: middle;\n",
       "    }\n",
       "\n",
       "    .dataframe tbody tr th {\n",
       "        vertical-align: top;\n",
       "    }\n",
       "\n",
       "    .dataframe thead tr th {\n",
       "        text-align: left;\n",
       "    }\n",
       "</style>\n",
       "<table border=\"1\" class=\"dataframe\">\n",
       "  <thead>\n",
       "    <tr>\n",
       "      <th></th>\n",
       "      <th colspan=\"6\" halign=\"left\">original</th>\n",
       "      <th colspan=\"4\" halign=\"left\">transformed</th>\n",
       "    </tr>\n",
       "    <tr>\n",
       "      <th></th>\n",
       "      <th>gender</th>\n",
       "      <th>age</th>\n",
       "      <th>income</th>\n",
       "      <th>family_members</th>\n",
       "      <th>insurance_benefits</th>\n",
       "      <th>insurance_benefits_received</th>\n",
       "      <th>gender</th>\n",
       "      <th>age</th>\n",
       "      <th>income</th>\n",
       "      <th>family_members</th>\n",
       "    </tr>\n",
       "  </thead>\n",
       "  <tbody>\n",
       "    <tr>\n",
       "      <th>1031</th>\n",
       "      <td>1</td>\n",
       "      <td>22</td>\n",
       "      <td>50100.0</td>\n",
       "      <td>1</td>\n",
       "      <td>0</td>\n",
       "      <td>0</td>\n",
       "      <td>6421.982720</td>\n",
       "      <td>22587.060820</td>\n",
       "      <td>18595.028100</td>\n",
       "      <td>46449.143963</td>\n",
       "    </tr>\n",
       "    <tr>\n",
       "      <th>1314</th>\n",
       "      <td>0</td>\n",
       "      <td>22</td>\n",
       "      <td>47700.0</td>\n",
       "      <td>0</td>\n",
       "      <td>0</td>\n",
       "      <td>0</td>\n",
       "      <td>6113.092180</td>\n",
       "      <td>21504.872929</td>\n",
       "      <td>17703.810829</td>\n",
       "      <td>44223.983383</td>\n",
       "    </tr>\n",
       "    <tr>\n",
       "      <th>3280</th>\n",
       "      <td>0</td>\n",
       "      <td>34</td>\n",
       "      <td>41500.0</td>\n",
       "      <td>1</td>\n",
       "      <td>0</td>\n",
       "      <td>0</td>\n",
       "      <td>5320.561651</td>\n",
       "      <td>18725.010344</td>\n",
       "      <td>15414.440170</td>\n",
       "      <td>38487.700462</td>\n",
       "    </tr>\n",
       "    <tr>\n",
       "      <th>1575</th>\n",
       "      <td>0</td>\n",
       "      <td>31</td>\n",
       "      <td>35400.0</td>\n",
       "      <td>2</td>\n",
       "      <td>0</td>\n",
       "      <td>0</td>\n",
       "      <td>4539.429825</td>\n",
       "      <td>15975.552018</td>\n",
       "      <td>13150.732217</td>\n",
       "      <td>32832.303076</td>\n",
       "    </tr>\n",
       "    <tr>\n",
       "      <th>4556</th>\n",
       "      <td>0</td>\n",
       "      <td>23</td>\n",
       "      <td>23000.0</td>\n",
       "      <td>1</td>\n",
       "      <td>0</td>\n",
       "      <td>0</td>\n",
       "      <td>2949.423496</td>\n",
       "      <td>10382.138647</td>\n",
       "      <td>8546.304185</td>\n",
       "      <td>21333.901461</td>\n",
       "    </tr>\n",
       "  </tbody>\n",
       "</table>\n",
       "</div>"
      ],
      "text/plain": [
       "     original                                                 \\\n",
       "       gender age   income family_members insurance_benefits   \n",
       "1031        1  22  50100.0              1                  0   \n",
       "1314        0  22  47700.0              0                  0   \n",
       "3280        0  34  41500.0              1                  0   \n",
       "1575        0  31  35400.0              2                  0   \n",
       "4556        0  23  23000.0              1                  0   \n",
       "\n",
       "                                  transformed                              \\\n",
       "     insurance_benefits_received       gender           age        income   \n",
       "1031                           0  6421.982720  22587.060820  18595.028100   \n",
       "1314                           0  6113.092180  21504.872929  17703.810829   \n",
       "3280                           0  5320.561651  18725.010344  15414.440170   \n",
       "1575                           0  4539.429825  15975.552018  13150.732217   \n",
       "4556                           0  2949.423496  10382.138647   8546.304185   \n",
       "\n",
       "                     \n",
       "     family_members  \n",
       "1031   46449.143963  \n",
       "1314   44223.983383  \n",
       "3280   38487.700462  \n",
       "1575   32832.303076  \n",
       "4556   21333.901461  "
      ]
     },
     "execution_count": 39,
     "metadata": {},
     "output_type": "execute_result"
    }
   ],
   "source": [
    "df2.sample(5)"
   ]
  },
  {
   "cell_type": "markdown",
   "metadata": {},
   "source": [
    "No se puede tener una idea de cual seria los datos originales, al solo ver los transformados."
   ]
  },
  {
   "cell_type": "markdown",
   "metadata": {},
   "source": [
    "¿Puedes recuperar los datos originales de $X'$ si conoces $P$? Intenta comprobarlo a través de los cálculos moviendo $P$ del lado derecho de la fórmula anterior al izquierdo. En este caso las reglas de la multiplicación matricial son realmente útiles"
   ]
  },
  {
   "cell_type": "code",
   "execution_count": 40,
   "metadata": {},
   "outputs": [],
   "source": [
    "P_inv = np.linalg.inv(P)\n",
    "\n",
    "X_recovered = np.dot(T, P_inv)\n",
    "\n",
    "dfn = pd.DataFrame(X_recovered, columns=df_pn.columns)\n",
    "df3 = pd.concat([df_pn, dfT, dfn], axis=1, keys=['original', 'transformed', 'reversed'])"
   ]
  },
  {
   "cell_type": "markdown",
   "metadata": {},
   "source": [
    "Muestra los tres casos para algunos clientes- Datos originales\n",
    "- El que está transformado- El que está invertido (recuperado)"
   ]
  },
  {
   "cell_type": "code",
   "execution_count": 41,
   "metadata": {},
   "outputs": [
    {
     "data": {
      "text/html": [
       "<div>\n",
       "<style scoped>\n",
       "    .dataframe tbody tr th:only-of-type {\n",
       "        vertical-align: middle;\n",
       "    }\n",
       "\n",
       "    .dataframe tbody tr th {\n",
       "        vertical-align: top;\n",
       "    }\n",
       "\n",
       "    .dataframe thead tr th {\n",
       "        text-align: left;\n",
       "    }\n",
       "</style>\n",
       "<table border=\"1\" class=\"dataframe\">\n",
       "  <thead>\n",
       "    <tr>\n",
       "      <th></th>\n",
       "      <th colspan=\"4\" halign=\"left\">original</th>\n",
       "      <th colspan=\"4\" halign=\"left\">transformed</th>\n",
       "      <th colspan=\"4\" halign=\"left\">reversed</th>\n",
       "    </tr>\n",
       "    <tr>\n",
       "      <th></th>\n",
       "      <th>gender</th>\n",
       "      <th>age</th>\n",
       "      <th>income</th>\n",
       "      <th>family_members</th>\n",
       "      <th>gender</th>\n",
       "      <th>age</th>\n",
       "      <th>income</th>\n",
       "      <th>family_members</th>\n",
       "      <th>gender</th>\n",
       "      <th>age</th>\n",
       "      <th>income</th>\n",
       "      <th>family_members</th>\n",
       "    </tr>\n",
       "  </thead>\n",
       "  <tbody>\n",
       "    <tr>\n",
       "      <th>955</th>\n",
       "      <td>1</td>\n",
       "      <td>28</td>\n",
       "      <td>39700.0</td>\n",
       "      <td>0</td>\n",
       "      <td>5089.522139</td>\n",
       "      <td>17908.078039</td>\n",
       "      <td>14742.852072</td>\n",
       "      <td>36815.277226</td>\n",
       "      <td>1.000000e+00</td>\n",
       "      <td>28.0</td>\n",
       "      <td>39700.0</td>\n",
       "      <td>4.088690e-12</td>\n",
       "    </tr>\n",
       "    <tr>\n",
       "      <th>863</th>\n",
       "      <td>1</td>\n",
       "      <td>42</td>\n",
       "      <td>23500.0</td>\n",
       "      <td>1</td>\n",
       "      <td>3016.043638</td>\n",
       "      <td>10626.307319</td>\n",
       "      <td>8747.023449</td>\n",
       "      <td>21812.916546</td>\n",
       "      <td>1.000000e+00</td>\n",
       "      <td>42.0</td>\n",
       "      <td>23500.0</td>\n",
       "      <td>1.000000e+00</td>\n",
       "    </tr>\n",
       "    <tr>\n",
       "      <th>2354</th>\n",
       "      <td>1</td>\n",
       "      <td>52</td>\n",
       "      <td>16400.0</td>\n",
       "      <td>2</td>\n",
       "      <td>2108.022484</td>\n",
       "      <td>7439.146145</td>\n",
       "      <td>6122.412288</td>\n",
       "      <td>15240.973006</td>\n",
       "      <td>1.000000e+00</td>\n",
       "      <td>52.0</td>\n",
       "      <td>16400.0</td>\n",
       "      <td>2.000000e+00</td>\n",
       "    </tr>\n",
       "    <tr>\n",
       "      <th>4453</th>\n",
       "      <td>0</td>\n",
       "      <td>19</td>\n",
       "      <td>21400.0</td>\n",
       "      <td>0</td>\n",
       "      <td>2743.421109</td>\n",
       "      <td>9656.795896</td>\n",
       "      <td>7949.539373</td>\n",
       "      <td>19847.705983</td>\n",
       "      <td>-1.139886e-12</td>\n",
       "      <td>19.0</td>\n",
       "      <td>21400.0</td>\n",
       "      <td>1.437744e-13</td>\n",
       "    </tr>\n",
       "    <tr>\n",
       "      <th>1297</th>\n",
       "      <td>0</td>\n",
       "      <td>31</td>\n",
       "      <td>43400.0</td>\n",
       "      <td>2</td>\n",
       "      <td>5564.338886</td>\n",
       "      <td>19578.639521</td>\n",
       "      <td>16117.116411</td>\n",
       "      <td>40246.422987</td>\n",
       "      <td>-5.304395e-12</td>\n",
       "      <td>31.0</td>\n",
       "      <td>43400.0</td>\n",
       "      <td>2.000000e+00</td>\n",
       "    </tr>\n",
       "  </tbody>\n",
       "</table>\n",
       "</div>"
      ],
      "text/plain": [
       "     original                              transformed                \\\n",
       "       gender age   income family_members       gender           age   \n",
       "955         1  28  39700.0              0  5089.522139  17908.078039   \n",
       "863         1  42  23500.0              1  3016.043638  10626.307319   \n",
       "2354        1  52  16400.0              2  2108.022484   7439.146145   \n",
       "4453        0  19  21400.0              0  2743.421109   9656.795896   \n",
       "1297        0  31  43400.0              2  5564.338886  19578.639521   \n",
       "\n",
       "                                       reversed                                \n",
       "            income family_members        gender   age   income family_members  \n",
       "955   14742.852072   36815.277226  1.000000e+00  28.0  39700.0   4.088690e-12  \n",
       "863    8747.023449   21812.916546  1.000000e+00  42.0  23500.0   1.000000e+00  \n",
       "2354   6122.412288   15240.973006  1.000000e+00  52.0  16400.0   2.000000e+00  \n",
       "4453   7949.539373   19847.705983 -1.139886e-12  19.0  21400.0   1.437744e-13  \n",
       "1297  16117.116411   40246.422987 -5.304395e-12  31.0  43400.0   2.000000e+00  "
      ]
     },
     "execution_count": 41,
     "metadata": {},
     "output_type": "execute_result"
    }
   ],
   "source": [
    "df3.sample(5)"
   ]
  },
  {
   "cell_type": "code",
   "execution_count": 42,
   "metadata": {},
   "outputs": [
    {
     "data": {
      "text/html": [
       "<div>\n",
       "<style scoped>\n",
       "    .dataframe tbody tr th:only-of-type {\n",
       "        vertical-align: middle;\n",
       "    }\n",
       "\n",
       "    .dataframe tbody tr th {\n",
       "        vertical-align: top;\n",
       "    }\n",
       "\n",
       "    .dataframe thead tr th {\n",
       "        text-align: left;\n",
       "    }\n",
       "</style>\n",
       "<table border=\"1\" class=\"dataframe\">\n",
       "  <thead>\n",
       "    <tr>\n",
       "      <th></th>\n",
       "      <th colspan=\"4\" halign=\"left\">original</th>\n",
       "      <th colspan=\"4\" halign=\"left\">transformed</th>\n",
       "      <th colspan=\"4\" halign=\"left\">reversed</th>\n",
       "    </tr>\n",
       "    <tr>\n",
       "      <th></th>\n",
       "      <th>gender</th>\n",
       "      <th>age</th>\n",
       "      <th>income</th>\n",
       "      <th>family_members</th>\n",
       "      <th>gender</th>\n",
       "      <th>age</th>\n",
       "      <th>income</th>\n",
       "      <th>family_members</th>\n",
       "      <th>gender</th>\n",
       "      <th>age</th>\n",
       "      <th>income</th>\n",
       "      <th>family_members</th>\n",
       "    </tr>\n",
       "  </thead>\n",
       "  <tbody>\n",
       "    <tr>\n",
       "      <th>4235</th>\n",
       "      <td>1</td>\n",
       "      <td>28</td>\n",
       "      <td>50900</td>\n",
       "      <td>1</td>\n",
       "      <td>6525</td>\n",
       "      <td>22953</td>\n",
       "      <td>18896</td>\n",
       "      <td>47195</td>\n",
       "      <td>0</td>\n",
       "      <td>28</td>\n",
       "      <td>50899</td>\n",
       "      <td>1</td>\n",
       "    </tr>\n",
       "    <tr>\n",
       "      <th>748</th>\n",
       "      <td>1</td>\n",
       "      <td>31</td>\n",
       "      <td>51600</td>\n",
       "      <td>0</td>\n",
       "      <td>6614</td>\n",
       "      <td>23270</td>\n",
       "      <td>19157</td>\n",
       "      <td>47846</td>\n",
       "      <td>0</td>\n",
       "      <td>30</td>\n",
       "      <td>51599</td>\n",
       "      <td>0</td>\n",
       "    </tr>\n",
       "    <tr>\n",
       "      <th>3181</th>\n",
       "      <td>1</td>\n",
       "      <td>25</td>\n",
       "      <td>51900</td>\n",
       "      <td>0</td>\n",
       "      <td>6652</td>\n",
       "      <td>23399</td>\n",
       "      <td>19264</td>\n",
       "      <td>48119</td>\n",
       "      <td>0</td>\n",
       "      <td>24</td>\n",
       "      <td>51900</td>\n",
       "      <td>0</td>\n",
       "    </tr>\n",
       "    <tr>\n",
       "      <th>4615</th>\n",
       "      <td>1</td>\n",
       "      <td>28</td>\n",
       "      <td>16300</td>\n",
       "      <td>1</td>\n",
       "      <td>2092</td>\n",
       "      <td>7369</td>\n",
       "      <td>6066</td>\n",
       "      <td>15129</td>\n",
       "      <td>0</td>\n",
       "      <td>27</td>\n",
       "      <td>16300</td>\n",
       "      <td>0</td>\n",
       "    </tr>\n",
       "    <tr>\n",
       "      <th>4895</th>\n",
       "      <td>1</td>\n",
       "      <td>38</td>\n",
       "      <td>35200</td>\n",
       "      <td>2</td>\n",
       "      <td>4515</td>\n",
       "      <td>15892</td>\n",
       "      <td>13082</td>\n",
       "      <td>32653</td>\n",
       "      <td>0</td>\n",
       "      <td>37</td>\n",
       "      <td>35200</td>\n",
       "      <td>1</td>\n",
       "    </tr>\n",
       "  </tbody>\n",
       "</table>\n",
       "</div>"
      ],
      "text/plain": [
       "     original                           transformed                \\\n",
       "       gender age income family_members      gender    age income   \n",
       "4235        1  28  50900              1        6525  22953  18896   \n",
       "748         1  31  51600              0        6614  23270  19157   \n",
       "3181        1  25  51900              0        6652  23399  19264   \n",
       "4615        1  28  16300              1        2092   7369   6066   \n",
       "4895        1  38  35200              2        4515  15892  13082   \n",
       "\n",
       "                    reversed                            \n",
       "     family_members   gender age income family_members  \n",
       "4235          47195        0  28  50899              1  \n",
       "748           47846        0  30  51599              0  \n",
       "3181          48119        0  24  51900              0  \n",
       "4615          15129        0  27  16300              0  \n",
       "4895          32653        0  37  35200              1  "
      ]
     },
     "execution_count": 42,
     "metadata": {},
     "output_type": "execute_result"
    }
   ],
   "source": [
    "df3.sample(5).astype('int')"
   ]
  },
  {
   "cell_type": "markdown",
   "metadata": {},
   "source": [
    "Seguramente puedes ver que algunos valores no son exactamente iguales a los de los datos originales. ¿Cuál podría ser la razón de ello?"
   ]
  },
  {
   "cell_type": "markdown",
   "metadata": {},
   "source": [
    "Vemos que todos los valores enteros se conirtieron a números decimales, ya que durante el proceso de transformación todas las cifras terminaron con una parte decimal. Algunos valores que deberían ser cero no lo son exactamente, debido a las restricciones en la precisión numérica.\n",
    "\n",
    "Veamos si los valores de las características, tanto originales como transformados, están relacionados entre sí."
   ]
  },
  {
   "cell_type": "code",
   "execution_count": 43,
   "metadata": {},
   "outputs": [
    {
     "name": "stdout",
     "output_type": "stream",
     "text": [
      "gender          r= 0.01, p=0.36\n",
      "age             r=-0.02, p=0.22\n",
      "income          r= 1.00, p=0.00\n",
      "family_members  r=-0.03, p=0.07\n"
     ]
    },
    {
     "data": {
      "image/png": "[encoded data removed]",
      "text/plain": [
       "<Figure size 700x500 with 1 Axes>"
      ]
     },
     "metadata": {},
     "output_type": "display_data"
    },
    {
     "data": {
      "image/png": "[encoded data removed]",
      "text/plain": [
       "<Figure size 700x500 with 1 Axes>"
      ]
     },
     "metadata": {},
     "output_type": "display_data"
    }
   ],
   "source": [
    "for name in personal_info_column_list:\n",
    "    r, p = scipy.stats.spearmanr(df3['original'][name], df3['transformed'][name])\n",
    "    print(f'{name:15} r={r:5.2f}, p={p:.2f}')\n",
    "\n",
    "fig, ax = plt.subplots(figsize=(7, 5))\n",
    "sns.scatterplot(x=df3['original']['age'], y=df3['transformed']['age'], ax=ax)\n",
    "ax.set_xlabel('original age')\n",
    "ax.set_ylabel('transformed age')\n",
    "fig.tight_layout()\n",
    "\n",
    "fig, ax = plt.subplots(figsize=(7, 5))\n",
    "sns.scatterplot(x=df3['original']['income'], y=df3['transformed']['income'], ax=ax)\n",
    "ax.set_xlabel('original income')\n",
    "ax.set_ylabel('transformed income')\n",
    "fig.tight_layout()"
   ]
  },
  {
   "cell_type": "markdown",
   "metadata": {},
   "source": [
    "## Prueba de que la ofuscación de datos puede funcionar con regresión lineal"
   ]
  },
  {
   "cell_type": "markdown",
   "metadata": {},
   "source": [
    "En este proyecto la tarea de regresión se ha resuelto con la regresión lineal. Tu siguiente tarea es demostrar _analytically_ que el método de ofuscación no afectará a la regresión lineal en términos de valores predichos, es decir, que sus valores seguirán siendo los mismos. ¿Lo puedes creer? Pues no hace falta que lo creas, ¡tienes que que demostrarlo!"
   ]
  },
  {
   "cell_type": "markdown",
   "metadata": {},
   "source": [
    "Entonces, los datos están ofuscados y ahora tenemos $X \\times P$ en lugar de tener solo $X$. En consecuencia, hay otros pesos $w_P$ como\n",
    "$$\n",
    "w = (X^T X)^{-1} X^T y \\quad \\Rightarrow \\quad w_P = [(XP)^T XP]^{-1} (XP)^T y\n",
    "$$\n",
    "\n",
    "¿Cómo se relacionarían $w$ y $w_P$ si simplificáramos la fórmula de $w_P$ anterior? \n",
    "\n",
    "¿Cuáles serían los valores predichos con $w_P$? \n",
    "\n",
    "¿Qué significa esto para la calidad de la regresión lineal si esta se mide mediante la RECM?\n",
    "Revisa el Apéndice B Propiedades de las matrices al final del cuaderno. ¡Allí encontrarás fórmulas muy útiles!\n",
    "\n",
    "No es necesario escribir código en esta sección, basta con una explicación analítica."
   ]
  },
  {
   "cell_type": "markdown",
   "metadata": {},
   "source": [
    "**Respuesta**"
   ]
  },
  {
   "cell_type": "markdown",
   "metadata": {},
   "source": [
    "¿Cómo se relacionarían $w$ y $w_P$ si simplificáramos la fórmula de $w_P$ anterior? \n",
    "\n",
    "La relación entre $w$ y $w_P$ se puede entender como una transformación lineal de los pesos, que depende de la matriz \n",
    "𝑃.\n",
    "\n",
    "¿Cuáles serían los valores predichos con $w_P$? \n",
    "\n",
    "Los valores predichos con  $w_P$ son una versión modificada de los valores predichos con 𝑤, que dependerán de cómo 𝑃 transforma las características.\n",
    "\n",
    "¿Qué significa esto para la calidad de la regresión lineal si esta se mide mediante la RECM?\n",
    "\n",
    "El impacto en la calidad de la regresión (medida por la RECM) dependerá de si la matriz 𝑃 es invertible y de su influencia en el modelo. Si 𝑃 no es invertible, los errores podrían aumentar y, por lo tanto, la RECM también podría aumentar."
   ]
  },
  {
   "cell_type": "markdown",
   "metadata": {},
   "source": [
    "**Prueba analítica**"
   ]
  },
  {
   "cell_type": "markdown",
   "metadata": {},
   "source": [
    "Simplificación de $w_P$  :\n",
    "\n",
    "Si la transformación de $ X $ a \\( $X_P$ \\) es lineal, es decir, $ X_P = A X $ para alguna matriz $ A $ de transformación, entonces podemos expresar la relación entre $ w $ y  $w_P$  de la siguiente forma:\n",
    "\n",
    "$$ w_P = [(A X)^T A X]^{-1} (A X)^T y $$\n",
    "\n",
    "Reorganizando:\n",
    "\n",
    "\n",
    "$$ w_P = [X^T A^T A X]^{-1} X^T A^T y $$\n",
    "\n",
    "\n",
    "Si $ A^T A $ es la matriz identidad (lo que ocurre si $ A $ es una matriz ortogonal), entonces la fórmula se simplifica a:\n",
    "\n",
    "$$ w_P = (X^T X)^{-1} X^T y $$\n",
    "\n",
    "Por lo tanto, en este caso particular donde $ A^T A = I $, $ w_P $ sería igual a $ w $, es decir:\n",
    "\n",
    "$$ w_P = w $$ "
   ]
  },
  {
   "cell_type": "markdown",
   "metadata": {},
   "source": [
    "\n"
   ]
  },
  {
   "cell_type": "markdown",
   "metadata": {},
   "source": [
    "## Prueba de regresión lineal con ofuscación de datos"
   ]
  },
  {
   "cell_type": "markdown",
   "metadata": {},
   "source": [
    "Ahora, probemos que la regresión lineal pueda funcionar, en términos computacionales, con la transformación de ofuscación elegida.\n",
    "Construye un procedimiento o una clase que ejecute la regresión lineal opcionalmente con la ofuscación. Puedes usar una implementación de regresión lineal de scikit-learn o tu propia implementación.\n",
    "Ejecuta la regresión lineal para los datos originales y los ofuscados, compara los valores predichos y los valores de las métricas RMSE y $R^2$. ¿Hay alguna diferencia?"
   ]
  },
  {
   "cell_type": "markdown",
   "metadata": {},
   "source": [
    "**Procedimiento**\n",
    "\n",
    "- Crea una matriz cuadrada $P$ de números aleatorios.- Comprueba que sea invertible. Si no lo es, repite el primer paso hasta obtener una matriz invertible.- <Multiplica la matriz $X$ por la matriz $P$>\n",
    "- Utiliza $XP$ como la nueva matriz de características"
   ]
  },
  {
   "cell_type": "code",
   "execution_count": 44,
   "metadata": {},
   "outputs": [
    {
     "name": "stdout",
     "output_type": "stream",
     "text": [
      "RMSE: 0.34\n",
      "R2: 0.66\n"
     ]
    }
   ],
   "source": [
    "# Matriz Original\n",
    "\n",
    "X = df[['age', 'gender', 'income', 'family_members']].to_numpy()\n",
    "y = df['insurance_benefits'].to_numpy()\n",
    "\n",
    "X_train, X_test, y_train, y_test = train_test_split(X, y, test_size=0.3, random_state=12345)\n",
    "\n",
    "model = LinearRegression()\n",
    "\n",
    "model.fit(X_train, y_train)\n",
    "\n",
    "y_pred_train = model.predict(X_train)\n",
    "y_pred_test = model.predict(X_test)\n",
    "\n",
    "eval_regressor(y_test, y_pred_test)"
   ]
  },
  {
   "cell_type": "code",
   "execution_count": 45,
   "metadata": {},
   "outputs": [],
   "source": [
    "# Matriz cuadrada 𝑃 de números aleatorios\n",
    "\n",
    "def es_invertible(matriz):\n",
    "    try:\n",
    "        np.linalg.inv(matriz)\n",
    "        return True\n",
    "    except np.linalg.LinAlgError:\n",
    "        return False\n",
    "\n",
    "# Función para crear una matriz P invertible\n",
    "def generar_matriz_P(tamaño):\n",
    "    while True:\n",
    "        P = np.random.rand(tamaño, tamaño) \n",
    "        if es_invertible(P):\n",
    "            return P\n",
    "\n",
    "# Generar la matriz P invertible\n",
    "P = generar_matriz_P(X.shape[1])"
   ]
  },
  {
   "cell_type": "code",
   "execution_count": 46,
   "metadata": {
    "scrolled": true
   },
   "outputs": [
    {
     "name": "stdout",
     "output_type": "stream",
     "text": [
      "RMSE: 0.34\n",
      "R2: 0.66\n"
     ]
    }
   ],
   "source": [
    "X_train_ofuscado = X_train @ P\n",
    "X_test_ofuscado = X_test @ P\n",
    "\n",
    "model_ofuscado = LinearRegression()\n",
    "\n",
    "model_ofuscado.fit(X_train_ofuscado, y_train)\n",
    "\n",
    "y_ofus_pred_train = model_ofuscado.predict(X_train_ofuscado)\n",
    "y_ofus_pred_test = model_ofuscado.predict(X_test_ofuscado)\n",
    "\n",
    "eval_regressor(y_test, y_ofus_pred_test)\n"
   ]
  },
  {
   "cell_type": "markdown",
   "metadata": {},
   "source": [
    "A pesar de que la matriz original haya sido ofuscada, al aplicar la regresión lineal, no hubo ninguna diferencia en los valores de las metricas. Teniendo ambas matrices un RMSE de 0.34 y un R2 de 0.66"
   ]
  },
  {
   "cell_type": "markdown",
   "metadata": {},
   "source": [
    "# Conclusiones"
   ]
  },
  {
   "cell_type": "markdown",
   "metadata": {},
   "source": [
    "- El algoritmo de k vecinos (kNN) se basa en la idea de que los objetos similares estarán cerca unos de otros en el espacio de características. Siempre hay que tener los valores de las caracteristicas a evaluar, ya que para una clasificación más precisa, es necesario escalar los datos. Y dependiendo del tipo de datos con los que se maneje, es necesario escoger una distancia Manhattan o Euclidiana.\n",
    "\n",
    "- Cuando hemos trabajamos con matrices hemos vistos que los resultados no siempre serán exactos, ya que no hay un límite en la precisión con la que se realizan los cálculos. Esto es especialmente evidente en operaciones que involucran decimales o números grandes, debido a la forma en que se representan y almacenan los números de manera aproximada.\n",
    "\n",
    "- A veces necesitamos transformar nuestros datos (características) para que sean más fáciles de manejar por los algoritmos. Si usamos una matriz invertible (es decir, una matriz cuya inversión es posible), podemos transformar las características sin que esto altere la capacidad de los algoritmos para hacer predicciones. La regresión lineal es un buen ejemplo: aunque transformemos los datos con una matriz, los valores que predice el modelo no cambiarán."
   ]
  }
 ],
 "metadata": {
  "ExecuteTimeLog": [
   {
    "duration": 2951,
    "start_time": "2024-11-18T01:00:54.070Z"
   },
   {
    "duration": 2100,
    "start_time": "2024-11-18T01:01:30.415Z"
   },
   {
    "duration": 2631,
    "start_time": "2024-11-18T01:01:32.517Z"
   },
   {
    "duration": 61,
    "start_time": "2024-11-18T01:01:35.150Z"
   },
   {
    "duration": 4,
    "start_time": "2024-11-18T01:01:35.213Z"
   },
   {
    "duration": 10,
    "start_time": "2024-11-18T01:01:35.219Z"
   },
   {
    "duration": 8,
    "start_time": "2024-11-18T01:01:35.230Z"
   },
   {
    "duration": 2,
    "start_time": "2024-11-18T01:01:35.239Z"
   },
   {
    "duration": 3,
    "start_time": "2024-11-18T01:01:35.243Z"
   },
   {
    "duration": 3,
    "start_time": "2024-11-18T01:01:35.247Z"
   },
   {
    "duration": 2588,
    "start_time": "2024-11-18T01:01:35.253Z"
   },
   {
    "duration": 2,
    "start_time": "2024-11-18T01:01:37.844Z"
   },
   {
    "duration": 5,
    "start_time": "2024-11-18T01:01:37.847Z"
   },
   {
    "duration": 0,
    "start_time": "2024-11-18T01:01:37.854Z"
   },
   {
    "duration": 0,
    "start_time": "2024-11-18T01:01:37.855Z"
   },
   {
    "duration": 0,
    "start_time": "2024-11-18T01:01:37.856Z"
   },
   {
    "duration": 0,
    "start_time": "2024-11-18T01:01:37.857Z"
   },
   {
    "duration": 0,
    "start_time": "2024-11-18T01:01:37.858Z"
   },
   {
    "duration": 0,
    "start_time": "2024-11-18T01:01:37.859Z"
   },
   {
    "duration": 0,
    "start_time": "2024-11-18T01:01:37.861Z"
   },
   {
    "duration": 0,
    "start_time": "2024-11-18T01:01:37.862Z"
   },
   {
    "duration": 0,
    "start_time": "2024-11-18T01:01:37.864Z"
   },
   {
    "duration": 0,
    "start_time": "2024-11-18T01:01:37.865Z"
   },
   {
    "duration": 0,
    "start_time": "2024-11-18T01:01:37.866Z"
   },
   {
    "duration": 0,
    "start_time": "2024-11-18T01:01:37.867Z"
   },
   {
    "duration": 0,
    "start_time": "2024-11-18T01:01:37.868Z"
   },
   {
    "duration": 3,
    "start_time": "2024-11-18T01:08:09.522Z"
   },
   {
    "duration": 9,
    "start_time": "2024-11-18T01:08:18.640Z"
   },
   {
    "duration": 19,
    "start_time": "2024-11-18T01:08:25.934Z"
   },
   {
    "duration": 2484,
    "start_time": "2024-11-18T01:09:54.523Z"
   },
   {
    "duration": 3,
    "start_time": "2024-11-18T01:30:16.749Z"
   },
   {
    "duration": 8,
    "start_time": "2024-11-18T01:33:50.655Z"
   },
   {
    "duration": 8,
    "start_time": "2024-11-18T01:33:53.452Z"
   },
   {
    "duration": 3,
    "start_time": "2024-11-18T01:44:40.885Z"
   },
   {
    "duration": 3,
    "start_time": "2024-11-18T01:46:30.799Z"
   },
   {
    "duration": 6,
    "start_time": "2024-11-18T01:46:31.684Z"
   },
   {
    "duration": 3,
    "start_time": "2024-11-18T01:46:57.827Z"
   },
   {
    "duration": 2,
    "start_time": "2024-11-18T01:47:09.328Z"
   },
   {
    "duration": 4,
    "start_time": "2024-11-18T01:47:11.572Z"
   },
   {
    "duration": 2072,
    "start_time": "2024-11-18T02:00:26.040Z"
   },
   {
    "duration": 228,
    "start_time": "2024-11-18T02:44:17.671Z"
   },
   {
    "duration": 4,
    "start_time": "2024-11-18T02:44:57.677Z"
   },
   {
    "duration": 4,
    "start_time": "2024-11-18T02:45:12.916Z"
   },
   {
    "duration": 22,
    "start_time": "2024-11-18T02:50:40.982Z"
   },
   {
    "duration": 3,
    "start_time": "2024-11-18T02:50:55.246Z"
   },
   {
    "duration": 2,
    "start_time": "2024-11-18T02:51:03.908Z"
   },
   {
    "duration": 5,
    "start_time": "2024-11-18T02:51:05.081Z"
   },
   {
    "duration": 14,
    "start_time": "2024-11-18T02:51:07.120Z"
   },
   {
    "duration": 1032,
    "start_time": "2024-11-18T02:53:56.895Z"
   },
   {
    "duration": 8,
    "start_time": "2024-11-18T02:53:57.929Z"
   },
   {
    "duration": 3,
    "start_time": "2024-11-18T02:53:57.940Z"
   },
   {
    "duration": 10,
    "start_time": "2024-11-18T02:53:57.946Z"
   },
   {
    "duration": 8,
    "start_time": "2024-11-18T02:53:57.958Z"
   },
   {
    "duration": 3,
    "start_time": "2024-11-18T02:53:57.968Z"
   },
   {
    "duration": 38,
    "start_time": "2024-11-18T02:53:57.972Z"
   },
   {
    "duration": 17,
    "start_time": "2024-11-18T02:53:58.013Z"
   },
   {
    "duration": 2599,
    "start_time": "2024-11-18T02:53:58.031Z"
   },
   {
    "duration": 2,
    "start_time": "2024-11-18T02:54:00.634Z"
   },
   {
    "duration": 4,
    "start_time": "2024-11-18T02:54:00.638Z"
   },
   {
    "duration": 13,
    "start_time": "2024-11-18T02:54:00.644Z"
   },
   {
    "duration": 11,
    "start_time": "2024-11-18T02:54:00.659Z"
   },
   {
    "duration": 10,
    "start_time": "2024-11-18T02:54:00.672Z"
   },
   {
    "duration": 24,
    "start_time": "2024-11-18T02:54:00.684Z"
   },
   {
    "duration": 8,
    "start_time": "2024-11-18T02:54:00.709Z"
   },
   {
    "duration": 4,
    "start_time": "2024-11-18T02:54:00.719Z"
   },
   {
    "duration": 5,
    "start_time": "2024-11-18T02:54:00.727Z"
   },
   {
    "duration": 4,
    "start_time": "2024-11-18T02:54:00.737Z"
   },
   {
    "duration": 0,
    "start_time": "2024-11-18T02:54:00.746Z"
   },
   {
    "duration": 0,
    "start_time": "2024-11-18T02:54:00.747Z"
   },
   {
    "duration": 0,
    "start_time": "2024-11-18T02:54:00.749Z"
   },
   {
    "duration": 0,
    "start_time": "2024-11-18T02:54:00.756Z"
   },
   {
    "duration": 0,
    "start_time": "2024-11-18T02:54:00.757Z"
   },
   {
    "duration": 0,
    "start_time": "2024-11-18T02:54:00.758Z"
   },
   {
    "duration": 377,
    "start_time": "2024-11-18T02:58:27.470Z"
   },
   {
    "duration": 13,
    "start_time": "2024-11-18T02:58:32.601Z"
   },
   {
    "duration": 4808,
    "start_time": "2024-11-18T02:58:33.949Z"
   },
   {
    "duration": 114,
    "start_time": "2024-11-18T02:59:17.993Z"
   },
   {
    "duration": 40,
    "start_time": "2024-11-18T03:00:35.668Z"
   },
   {
    "duration": 39,
    "start_time": "2024-11-18T03:00:48.491Z"
   },
   {
    "duration": 13,
    "start_time": "2024-11-18T03:02:11.395Z"
   },
   {
    "duration": 9,
    "start_time": "2024-11-18T03:02:48.249Z"
   },
   {
    "duration": 4575,
    "start_time": "2024-11-18T03:02:50.037Z"
   },
   {
    "duration": 8,
    "start_time": "2024-11-18T03:03:00.915Z"
   },
   {
    "duration": 12,
    "start_time": "2024-11-18T03:03:07.931Z"
   },
   {
    "duration": 18,
    "start_time": "2024-11-18T03:03:22.414Z"
   },
   {
    "duration": 5146,
    "start_time": "2024-11-18T03:03:45.353Z"
   },
   {
    "duration": 21,
    "start_time": "2024-11-18T03:22:41.590Z"
   },
   {
    "duration": 20,
    "start_time": "2024-11-18T03:32:37.223Z"
   },
   {
    "duration": 13,
    "start_time": "2024-11-18T03:33:39.304Z"
   },
   {
    "duration": 12,
    "start_time": "2024-11-18T03:33:41.590Z"
   },
   {
    "duration": 2715,
    "start_time": "2024-11-20T22:31:36.623Z"
   },
   {
    "duration": 11,
    "start_time": "2024-11-20T22:31:39.340Z"
   },
   {
    "duration": 3,
    "start_time": "2024-11-20T22:31:39.353Z"
   },
   {
    "duration": 10,
    "start_time": "2024-11-20T22:31:39.358Z"
   },
   {
    "duration": 9,
    "start_time": "2024-11-20T22:31:39.370Z"
   },
   {
    "duration": 3,
    "start_time": "2024-11-20T22:31:39.381Z"
   },
   {
    "duration": 30,
    "start_time": "2024-11-20T22:31:39.386Z"
   },
   {
    "duration": 18,
    "start_time": "2024-11-20T22:31:39.418Z"
   },
   {
    "duration": 2543,
    "start_time": "2024-11-20T22:31:39.437Z"
   },
   {
    "duration": 3,
    "start_time": "2024-11-20T22:31:41.984Z"
   },
   {
    "duration": 5,
    "start_time": "2024-11-20T22:31:41.988Z"
   },
   {
    "duration": 8,
    "start_time": "2024-11-20T22:31:41.994Z"
   },
   {
    "duration": 8,
    "start_time": "2024-11-20T22:31:42.004Z"
   },
   {
    "duration": 20,
    "start_time": "2024-11-20T22:31:42.014Z"
   },
   {
    "duration": 20,
    "start_time": "2024-11-20T22:31:42.036Z"
   },
   {
    "duration": 13,
    "start_time": "2024-11-20T22:31:42.057Z"
   },
   {
    "duration": 12,
    "start_time": "2024-11-20T22:31:42.071Z"
   },
   {
    "duration": 3,
    "start_time": "2024-11-20T22:31:42.112Z"
   },
   {
    "duration": 5,
    "start_time": "2024-11-20T22:31:42.117Z"
   },
   {
    "duration": 3,
    "start_time": "2024-11-20T22:31:42.124Z"
   },
   {
    "duration": 3,
    "start_time": "2024-11-20T22:31:42.128Z"
   },
   {
    "duration": 6,
    "start_time": "2024-11-20T22:31:42.132Z"
   },
   {
    "duration": 0,
    "start_time": "2024-11-20T22:31:42.139Z"
   },
   {
    "duration": 0,
    "start_time": "2024-11-20T22:31:42.140Z"
   },
   {
    "duration": 0,
    "start_time": "2024-11-20T22:31:42.141Z"
   },
   {
    "duration": 0,
    "start_time": "2024-11-20T22:31:42.142Z"
   },
   {
    "duration": 0,
    "start_time": "2024-11-20T22:31:42.143Z"
   },
   {
    "duration": 0,
    "start_time": "2024-11-20T22:31:42.144Z"
   },
   {
    "duration": 3,
    "start_time": "2024-11-20T22:36:20.933Z"
   },
   {
    "duration": 2,
    "start_time": "2024-11-20T22:53:38.311Z"
   },
   {
    "duration": 6,
    "start_time": "2024-11-20T23:24:37.156Z"
   },
   {
    "duration": 5,
    "start_time": "2024-11-20T23:26:36.464Z"
   },
   {
    "duration": 532,
    "start_time": "2024-11-20T23:57:06.821Z"
   },
   {
    "duration": 157,
    "start_time": "2024-11-21T05:36:47.853Z"
   },
   {
    "duration": 2709,
    "start_time": "2024-11-21T05:36:57.985Z"
   },
   {
    "duration": 17,
    "start_time": "2024-11-21T05:37:00.697Z"
   },
   {
    "duration": 3,
    "start_time": "2024-11-21T05:37:00.715Z"
   },
   {
    "duration": 10,
    "start_time": "2024-11-21T05:37:00.720Z"
   },
   {
    "duration": 9,
    "start_time": "2024-11-21T05:37:00.732Z"
   },
   {
    "duration": 3,
    "start_time": "2024-11-21T05:37:00.742Z"
   },
   {
    "duration": 8,
    "start_time": "2024-11-21T05:37:00.747Z"
   },
   {
    "duration": 15,
    "start_time": "2024-11-21T05:37:00.756Z"
   },
   {
    "duration": 2531,
    "start_time": "2024-11-21T05:37:00.773Z"
   },
   {
    "duration": 2,
    "start_time": "2024-11-21T05:37:03.307Z"
   },
   {
    "duration": 80,
    "start_time": "2024-11-21T05:37:03.311Z"
   },
   {
    "duration": 18,
    "start_time": "2024-11-21T05:37:03.393Z"
   },
   {
    "duration": 8,
    "start_time": "2024-11-21T05:37:03.413Z"
   },
   {
    "duration": 19,
    "start_time": "2024-11-21T05:37:03.422Z"
   },
   {
    "duration": 19,
    "start_time": "2024-11-21T05:37:03.443Z"
   },
   {
    "duration": 11,
    "start_time": "2024-11-21T05:37:03.463Z"
   },
   {
    "duration": 39,
    "start_time": "2024-11-21T05:37:03.476Z"
   },
   {
    "duration": 3,
    "start_time": "2024-11-21T05:37:03.516Z"
   },
   {
    "duration": 5,
    "start_time": "2024-11-21T05:37:03.521Z"
   },
   {
    "duration": 7,
    "start_time": "2024-11-21T05:37:03.527Z"
   },
   {
    "duration": 4,
    "start_time": "2024-11-21T05:37:03.543Z"
   },
   {
    "duration": 5,
    "start_time": "2024-11-21T05:37:03.549Z"
   },
   {
    "duration": 3,
    "start_time": "2024-11-21T05:37:03.556Z"
   },
   {
    "duration": 3,
    "start_time": "2024-11-21T05:37:03.561Z"
   },
   {
    "duration": 280,
    "start_time": "2024-11-21T05:37:03.565Z"
   },
   {
    "duration": 0,
    "start_time": "2024-11-21T05:37:03.848Z"
   },
   {
    "duration": 0,
    "start_time": "2024-11-21T05:37:03.851Z"
   },
   {
    "duration": 0,
    "start_time": "2024-11-21T05:37:03.852Z"
   },
   {
    "duration": 0,
    "start_time": "2024-11-21T05:37:03.853Z"
   },
   {
    "duration": 0,
    "start_time": "2024-11-21T05:37:03.854Z"
   },
   {
    "duration": 0,
    "start_time": "2024-11-21T05:37:03.855Z"
   },
   {
    "duration": 3,
    "start_time": "2024-11-21T05:37:46.758Z"
   },
   {
    "duration": 5,
    "start_time": "2024-11-21T05:37:48.254Z"
   },
   {
    "duration": 4,
    "start_time": "2024-11-21T05:38:13.769Z"
   },
   {
    "duration": 5,
    "start_time": "2024-11-21T05:38:15.086Z"
   },
   {
    "duration": 22,
    "start_time": "2024-11-21T05:40:36.721Z"
   },
   {
    "duration": 3,
    "start_time": "2024-11-21T05:40:53.369Z"
   },
   {
    "duration": 5,
    "start_time": "2024-11-21T05:40:54.917Z"
   },
   {
    "duration": 22,
    "start_time": "2024-11-21T05:40:56.855Z"
   },
   {
    "duration": 978,
    "start_time": "2024-11-21T05:42:54.257Z"
   },
   {
    "duration": 7,
    "start_time": "2024-11-21T05:42:55.239Z"
   },
   {
    "duration": 2,
    "start_time": "2024-11-21T05:42:55.248Z"
   },
   {
    "duration": 9,
    "start_time": "2024-11-21T05:42:55.253Z"
   },
   {
    "duration": 8,
    "start_time": "2024-11-21T05:42:55.264Z"
   },
   {
    "duration": 2,
    "start_time": "2024-11-21T05:42:55.274Z"
   },
   {
    "duration": 9,
    "start_time": "2024-11-21T05:42:55.278Z"
   },
   {
    "duration": 40,
    "start_time": "2024-11-21T05:42:55.288Z"
   },
   {
    "duration": 2479,
    "start_time": "2024-11-21T05:42:55.329Z"
   },
   {
    "duration": 2,
    "start_time": "2024-11-21T05:42:57.811Z"
   },
   {
    "duration": 5,
    "start_time": "2024-11-21T05:42:57.815Z"
   },
   {
    "duration": 8,
    "start_time": "2024-11-21T05:42:57.822Z"
   },
   {
    "duration": 8,
    "start_time": "2024-11-21T05:42:57.831Z"
   },
   {
    "duration": 19,
    "start_time": "2024-11-21T05:42:57.841Z"
   },
   {
    "duration": 21,
    "start_time": "2024-11-21T05:42:57.862Z"
   },
   {
    "duration": 36,
    "start_time": "2024-11-21T05:42:57.884Z"
   },
   {
    "duration": 10,
    "start_time": "2024-11-21T05:42:57.923Z"
   },
   {
    "duration": 3,
    "start_time": "2024-11-21T05:42:57.934Z"
   },
   {
    "duration": 5,
    "start_time": "2024-11-21T05:42:57.939Z"
   },
   {
    "duration": 3,
    "start_time": "2024-11-21T05:42:57.946Z"
   },
   {
    "duration": 3,
    "start_time": "2024-11-21T05:42:57.950Z"
   },
   {
    "duration": 273,
    "start_time": "2024-11-21T05:42:57.954Z"
   },
   {
    "duration": 0,
    "start_time": "2024-11-21T05:42:58.229Z"
   },
   {
    "duration": 0,
    "start_time": "2024-11-21T05:42:58.230Z"
   },
   {
    "duration": 0,
    "start_time": "2024-11-21T05:42:58.231Z"
   },
   {
    "duration": 0,
    "start_time": "2024-11-21T05:42:58.232Z"
   },
   {
    "duration": 0,
    "start_time": "2024-11-21T05:42:58.233Z"
   },
   {
    "duration": 0,
    "start_time": "2024-11-21T05:42:58.234Z"
   },
   {
    "duration": 963,
    "start_time": "2024-11-21T05:44:18.948Z"
   },
   {
    "duration": 7,
    "start_time": "2024-11-21T05:44:19.913Z"
   },
   {
    "duration": 3,
    "start_time": "2024-11-21T05:44:19.922Z"
   },
   {
    "duration": 9,
    "start_time": "2024-11-21T05:44:19.927Z"
   },
   {
    "duration": 10,
    "start_time": "2024-11-21T05:44:19.938Z"
   },
   {
    "duration": 3,
    "start_time": "2024-11-21T05:44:19.950Z"
   },
   {
    "duration": 9,
    "start_time": "2024-11-21T05:44:19.955Z"
   },
   {
    "duration": 50,
    "start_time": "2024-11-21T05:44:19.966Z"
   },
   {
    "duration": 2481,
    "start_time": "2024-11-21T05:44:20.017Z"
   },
   {
    "duration": 2,
    "start_time": "2024-11-21T05:44:22.501Z"
   },
   {
    "duration": 4,
    "start_time": "2024-11-21T05:44:22.506Z"
   },
   {
    "duration": 9,
    "start_time": "2024-11-21T05:44:22.511Z"
   },
   {
    "duration": 7,
    "start_time": "2024-11-21T05:44:22.522Z"
   },
   {
    "duration": 19,
    "start_time": "2024-11-21T05:44:22.531Z"
   },
   {
    "duration": 19,
    "start_time": "2024-11-21T05:44:22.552Z"
   },
   {
    "duration": 12,
    "start_time": "2024-11-21T05:44:22.573Z"
   },
   {
    "duration": 12,
    "start_time": "2024-11-21T05:44:22.611Z"
   },
   {
    "duration": 4,
    "start_time": "2024-11-21T05:44:22.624Z"
   },
   {
    "duration": 5,
    "start_time": "2024-11-21T05:44:22.629Z"
   },
   {
    "duration": 3,
    "start_time": "2024-11-21T05:44:22.636Z"
   },
   {
    "duration": 3,
    "start_time": "2024-11-21T05:44:22.640Z"
   },
   {
    "duration": 19,
    "start_time": "2024-11-21T05:44:22.645Z"
   },
   {
    "duration": 5,
    "start_time": "2024-11-21T05:44:22.666Z"
   },
   {
    "duration": 0,
    "start_time": "2024-11-21T05:44:22.673Z"
   },
   {
    "duration": 0,
    "start_time": "2024-11-21T05:44:22.674Z"
   },
   {
    "duration": 0,
    "start_time": "2024-11-21T05:44:22.712Z"
   },
   {
    "duration": 0,
    "start_time": "2024-11-21T05:44:22.713Z"
   },
   {
    "duration": 0,
    "start_time": "2024-11-21T05:44:22.715Z"
   },
   {
    "duration": 11,
    "start_time": "2024-11-21T05:47:56.469Z"
   },
   {
    "duration": 5,
    "start_time": "2024-11-21T06:01:29.917Z"
   },
   {
    "duration": 2812,
    "start_time": "2024-11-21T22:08:52.500Z"
   },
   {
    "duration": 10,
    "start_time": "2024-11-21T22:08:55.315Z"
   },
   {
    "duration": 4,
    "start_time": "2024-11-21T22:08:55.327Z"
   },
   {
    "duration": 10,
    "start_time": "2024-11-21T22:08:55.334Z"
   },
   {
    "duration": 8,
    "start_time": "2024-11-21T22:08:55.346Z"
   },
   {
    "duration": 3,
    "start_time": "2024-11-21T22:08:55.356Z"
   },
   {
    "duration": 8,
    "start_time": "2024-11-21T22:08:55.360Z"
   },
   {
    "duration": 45,
    "start_time": "2024-11-21T22:08:55.370Z"
   },
   {
    "duration": 2649,
    "start_time": "2024-11-21T22:08:55.417Z"
   },
   {
    "duration": 2,
    "start_time": "2024-11-21T22:08:58.070Z"
   },
   {
    "duration": 97,
    "start_time": "2024-11-21T22:08:58.074Z"
   },
   {
    "duration": 8,
    "start_time": "2024-11-21T22:08:58.173Z"
   },
   {
    "duration": 22,
    "start_time": "2024-11-21T22:08:58.183Z"
   },
   {
    "duration": 25,
    "start_time": "2024-11-21T22:08:58.207Z"
   },
   {
    "duration": 23,
    "start_time": "2024-11-21T22:08:58.234Z"
   },
   {
    "duration": 14,
    "start_time": "2024-11-21T22:08:58.259Z"
   },
   {
    "duration": 44,
    "start_time": "2024-11-21T22:08:58.275Z"
   },
   {
    "duration": 3,
    "start_time": "2024-11-21T22:08:58.321Z"
   },
   {
    "duration": 5,
    "start_time": "2024-11-21T22:08:58.327Z"
   },
   {
    "duration": 3,
    "start_time": "2024-11-21T22:08:58.334Z"
   },
   {
    "duration": 3,
    "start_time": "2024-11-21T22:08:58.338Z"
   },
   {
    "duration": 20,
    "start_time": "2024-11-21T22:08:58.343Z"
   },
   {
    "duration": 45,
    "start_time": "2024-11-21T22:08:58.365Z"
   },
   {
    "duration": 245,
    "start_time": "2024-11-21T22:08:58.412Z"
   },
   {
    "duration": 0,
    "start_time": "2024-11-21T22:08:58.659Z"
   },
   {
    "duration": 0,
    "start_time": "2024-11-21T22:08:58.660Z"
   },
   {
    "duration": 0,
    "start_time": "2024-11-21T22:08:58.661Z"
   },
   {
    "duration": 0,
    "start_time": "2024-11-21T22:08:58.663Z"
   },
   {
    "duration": 0,
    "start_time": "2024-11-21T22:08:58.664Z"
   },
   {
    "duration": 0,
    "start_time": "2024-11-21T22:08:58.666Z"
   },
   {
    "duration": 0,
    "start_time": "2024-11-21T22:08:58.667Z"
   },
   {
    "duration": 0,
    "start_time": "2024-11-21T22:08:58.668Z"
   },
   {
    "duration": 3,
    "start_time": "2024-11-21T22:11:13.055Z"
   },
   {
    "duration": 20,
    "start_time": "2024-11-21T22:34:26.113Z"
   },
   {
    "duration": 16,
    "start_time": "2024-11-21T22:55:03.735Z"
   },
   {
    "duration": 1109,
    "start_time": "2024-11-21T22:55:27.740Z"
   },
   {
    "duration": 9,
    "start_time": "2024-11-21T22:55:28.852Z"
   },
   {
    "duration": 3,
    "start_time": "2024-11-21T22:55:28.863Z"
   },
   {
    "duration": 14,
    "start_time": "2024-11-21T22:55:28.868Z"
   },
   {
    "duration": 26,
    "start_time": "2024-11-21T22:55:28.885Z"
   },
   {
    "duration": 4,
    "start_time": "2024-11-21T22:55:28.913Z"
   },
   {
    "duration": 12,
    "start_time": "2024-11-21T22:55:28.919Z"
   },
   {
    "duration": 22,
    "start_time": "2024-11-21T22:55:28.933Z"
   },
   {
    "duration": 2689,
    "start_time": "2024-11-21T22:55:28.957Z"
   },
   {
    "duration": 4,
    "start_time": "2024-11-21T22:55:31.648Z"
   },
   {
    "duration": 5,
    "start_time": "2024-11-21T22:55:31.654Z"
   },
   {
    "duration": 10,
    "start_time": "2024-11-21T22:55:31.661Z"
   },
   {
    "duration": 8,
    "start_time": "2024-11-21T22:55:31.672Z"
   },
   {
    "duration": 36,
    "start_time": "2024-11-21T22:55:31.684Z"
   },
   {
    "duration": 21,
    "start_time": "2024-11-21T22:55:31.722Z"
   },
   {
    "duration": 14,
    "start_time": "2024-11-21T22:55:31.745Z"
   },
   {
    "duration": 15,
    "start_time": "2024-11-21T22:55:31.761Z"
   },
   {
    "duration": 29,
    "start_time": "2024-11-21T22:55:31.778Z"
   },
   {
    "duration": 7,
    "start_time": "2024-11-21T22:55:31.809Z"
   },
   {
    "duration": 3,
    "start_time": "2024-11-21T22:55:31.818Z"
   },
   {
    "duration": 3,
    "start_time": "2024-11-21T22:55:31.823Z"
   },
   {
    "duration": 20,
    "start_time": "2024-11-21T22:55:31.828Z"
   },
   {
    "duration": 6,
    "start_time": "2024-11-21T22:55:31.850Z"
   },
   {
    "duration": 7,
    "start_time": "2024-11-21T22:55:31.858Z"
   },
   {
    "duration": 287,
    "start_time": "2024-11-21T22:55:31.866Z"
   },
   {
    "duration": 0,
    "start_time": "2024-11-21T22:55:32.156Z"
   },
   {
    "duration": 0,
    "start_time": "2024-11-21T22:55:32.157Z"
   },
   {
    "duration": 0,
    "start_time": "2024-11-21T22:55:32.158Z"
   },
   {
    "duration": 0,
    "start_time": "2024-11-21T22:55:32.160Z"
   },
   {
    "duration": 0,
    "start_time": "2024-11-21T22:55:32.164Z"
   },
   {
    "duration": 0,
    "start_time": "2024-11-21T22:55:32.165Z"
   },
   {
    "duration": 4,
    "start_time": "2024-11-21T22:58:34.455Z"
   },
   {
    "duration": 3,
    "start_time": "2024-11-21T22:59:46.473Z"
   },
   {
    "duration": 590,
    "start_time": "2024-11-21T23:07:38.964Z"
   },
   {
    "duration": 1064,
    "start_time": "2024-11-21T23:07:56.201Z"
   },
   {
    "duration": 10,
    "start_time": "2024-11-21T23:07:57.269Z"
   },
   {
    "duration": 4,
    "start_time": "2024-11-21T23:07:57.280Z"
   },
   {
    "duration": 20,
    "start_time": "2024-11-21T23:07:57.286Z"
   },
   {
    "duration": 10,
    "start_time": "2024-11-21T23:07:57.308Z"
   },
   {
    "duration": 3,
    "start_time": "2024-11-21T23:07:57.321Z"
   },
   {
    "duration": 9,
    "start_time": "2024-11-21T23:07:57.325Z"
   },
   {
    "duration": 18,
    "start_time": "2024-11-21T23:07:57.336Z"
   },
   {
    "duration": 2706,
    "start_time": "2024-11-21T23:07:57.356Z"
   },
   {
    "duration": 2,
    "start_time": "2024-11-21T23:08:00.066Z"
   },
   {
    "duration": 5,
    "start_time": "2024-11-21T23:08:00.070Z"
   },
   {
    "duration": 9,
    "start_time": "2024-11-21T23:08:00.077Z"
   },
   {
    "duration": 18,
    "start_time": "2024-11-21T23:08:00.088Z"
   },
   {
    "duration": 22,
    "start_time": "2024-11-21T23:08:00.108Z"
   },
   {
    "duration": 22,
    "start_time": "2024-11-21T23:08:00.132Z"
   },
   {
    "duration": 13,
    "start_time": "2024-11-21T23:08:00.155Z"
   },
   {
    "duration": 38,
    "start_time": "2024-11-21T23:08:00.169Z"
   },
   {
    "duration": 5,
    "start_time": "2024-11-21T23:08:00.209Z"
   },
   {
    "duration": 7,
    "start_time": "2024-11-21T23:08:00.215Z"
   },
   {
    "duration": 3,
    "start_time": "2024-11-21T23:08:00.225Z"
   },
   {
    "duration": 3,
    "start_time": "2024-11-21T23:08:00.229Z"
   },
   {
    "duration": 19,
    "start_time": "2024-11-21T23:08:00.234Z"
   },
   {
    "duration": 6,
    "start_time": "2024-11-21T23:08:00.255Z"
   },
   {
    "duration": 48,
    "start_time": "2024-11-21T23:08:00.263Z"
   },
   {
    "duration": 648,
    "start_time": "2024-11-21T23:08:00.312Z"
   },
   {
    "duration": 6,
    "start_time": "2024-11-21T23:08:00.961Z"
   },
   {
    "duration": 0,
    "start_time": "2024-11-21T23:08:00.969Z"
   },
   {
    "duration": 0,
    "start_time": "2024-11-21T23:08:00.970Z"
   },
   {
    "duration": 0,
    "start_time": "2024-11-21T23:08:00.972Z"
   },
   {
    "duration": 0,
    "start_time": "2024-11-21T23:08:00.973Z"
   },
   {
    "duration": 0,
    "start_time": "2024-11-21T23:08:00.974Z"
   },
   {
    "duration": 4,
    "start_time": "2024-11-21T23:09:00.030Z"
   },
   {
    "duration": 4,
    "start_time": "2024-11-21T23:31:03.629Z"
   },
   {
    "duration": 4,
    "start_time": "2024-11-21T23:31:21.261Z"
   },
   {
    "duration": 4,
    "start_time": "2024-11-21T23:33:15.825Z"
   },
   {
    "duration": 5,
    "start_time": "2024-11-21T23:33:42.696Z"
   },
   {
    "duration": 11,
    "start_time": "2024-11-21T23:50:21.712Z"
   },
   {
    "duration": 6,
    "start_time": "2024-11-21T23:51:02.145Z"
   },
   {
    "duration": 10,
    "start_time": "2024-11-21T23:52:26.378Z"
   },
   {
    "duration": 4,
    "start_time": "2024-11-21T23:54:56.211Z"
   },
   {
    "duration": 4,
    "start_time": "2024-11-21T23:55:12.986Z"
   },
   {
    "duration": 4,
    "start_time": "2024-11-21T23:55:13.989Z"
   },
   {
    "duration": 4,
    "start_time": "2024-11-21T23:55:20.044Z"
   },
   {
    "duration": 5,
    "start_time": "2024-11-21T23:55:22.593Z"
   },
   {
    "duration": 1099,
    "start_time": "2024-11-22T00:02:47.676Z"
   },
   {
    "duration": 8,
    "start_time": "2024-11-22T00:02:48.777Z"
   },
   {
    "duration": 3,
    "start_time": "2024-11-22T00:02:48.786Z"
   },
   {
    "duration": 19,
    "start_time": "2024-11-22T00:02:48.792Z"
   },
   {
    "duration": 10,
    "start_time": "2024-11-22T00:02:48.812Z"
   },
   {
    "duration": 4,
    "start_time": "2024-11-22T00:02:48.823Z"
   },
   {
    "duration": 8,
    "start_time": "2024-11-22T00:02:48.829Z"
   },
   {
    "duration": 18,
    "start_time": "2024-11-22T00:02:48.838Z"
   },
   {
    "duration": 2676,
    "start_time": "2024-11-22T00:02:48.858Z"
   },
   {
    "duration": 3,
    "start_time": "2024-11-22T00:02:51.537Z"
   },
   {
    "duration": 5,
    "start_time": "2024-11-22T00:02:51.542Z"
   },
   {
    "duration": 10,
    "start_time": "2024-11-22T00:02:51.549Z"
   },
   {
    "duration": 9,
    "start_time": "2024-11-22T00:02:51.561Z"
   },
   {
    "duration": 34,
    "start_time": "2024-11-22T00:02:51.572Z"
   },
   {
    "duration": 23,
    "start_time": "2024-11-22T00:02:51.609Z"
   },
   {
    "duration": 13,
    "start_time": "2024-11-22T00:02:51.634Z"
   },
   {
    "duration": 12,
    "start_time": "2024-11-22T00:02:51.649Z"
   },
   {
    "duration": 4,
    "start_time": "2024-11-22T00:02:51.664Z"
   },
   {
    "duration": 38,
    "start_time": "2024-11-22T00:02:51.669Z"
   },
   {
    "duration": 3,
    "start_time": "2024-11-22T00:02:51.709Z"
   },
   {
    "duration": 4,
    "start_time": "2024-11-22T00:02:51.714Z"
   },
   {
    "duration": 20,
    "start_time": "2024-11-22T00:02:51.719Z"
   },
   {
    "duration": 6,
    "start_time": "2024-11-22T00:02:51.741Z"
   },
   {
    "duration": 7,
    "start_time": "2024-11-22T00:02:51.748Z"
   },
   {
    "duration": 267,
    "start_time": "2024-11-22T00:02:51.756Z"
   },
   {
    "duration": 0,
    "start_time": "2024-11-22T00:02:52.026Z"
   },
   {
    "duration": 0,
    "start_time": "2024-11-22T00:02:52.027Z"
   },
   {
    "duration": 0,
    "start_time": "2024-11-22T00:02:52.028Z"
   },
   {
    "duration": 0,
    "start_time": "2024-11-22T00:02:52.029Z"
   },
   {
    "duration": 0,
    "start_time": "2024-11-22T00:02:52.031Z"
   },
   {
    "duration": 0,
    "start_time": "2024-11-22T00:02:52.033Z"
   },
   {
    "duration": 0,
    "start_time": "2024-11-22T00:02:52.034Z"
   },
   {
    "duration": 0,
    "start_time": "2024-11-22T00:02:52.036Z"
   },
   {
    "duration": 0,
    "start_time": "2024-11-22T00:02:52.038Z"
   },
   {
    "duration": 0,
    "start_time": "2024-11-22T00:02:52.039Z"
   },
   {
    "duration": 7,
    "start_time": "2024-11-22T00:03:14.457Z"
   },
   {
    "duration": 628,
    "start_time": "2024-11-22T00:03:16.260Z"
   },
   {
    "duration": 4,
    "start_time": "2024-11-22T00:03:18.534Z"
   },
   {
    "duration": 4,
    "start_time": "2024-11-22T01:05:33.902Z"
   },
   {
    "duration": 3,
    "start_time": "2024-11-22T01:05:36.348Z"
   },
   {
    "duration": 47,
    "start_time": "2024-11-22T01:05:44.581Z"
   },
   {
    "duration": 1166,
    "start_time": "2024-11-22T01:17:28.595Z"
   },
   {
    "duration": 8,
    "start_time": "2024-11-22T01:17:29.763Z"
   },
   {
    "duration": 4,
    "start_time": "2024-11-22T01:17:29.773Z"
   },
   {
    "duration": 11,
    "start_time": "2024-11-22T01:17:29.779Z"
   },
   {
    "duration": 9,
    "start_time": "2024-11-22T01:17:29.804Z"
   },
   {
    "duration": 3,
    "start_time": "2024-11-22T01:17:29.815Z"
   },
   {
    "duration": 10,
    "start_time": "2024-11-22T01:17:29.820Z"
   },
   {
    "duration": 17,
    "start_time": "2024-11-22T01:17:29.832Z"
   },
   {
    "duration": 2899,
    "start_time": "2024-11-22T01:17:29.851Z"
   },
   {
    "duration": 3,
    "start_time": "2024-11-22T01:17:32.754Z"
   },
   {
    "duration": 6,
    "start_time": "2024-11-22T01:17:32.758Z"
   },
   {
    "duration": 10,
    "start_time": "2024-11-22T01:17:32.766Z"
   },
   {
    "duration": 8,
    "start_time": "2024-11-22T01:17:32.778Z"
   },
   {
    "duration": 27,
    "start_time": "2024-11-22T01:17:32.788Z"
   },
   {
    "duration": 25,
    "start_time": "2024-11-22T01:17:32.816Z"
   },
   {
    "duration": 15,
    "start_time": "2024-11-22T01:17:32.844Z"
   },
   {
    "duration": 14,
    "start_time": "2024-11-22T01:17:32.861Z"
   },
   {
    "duration": 31,
    "start_time": "2024-11-22T01:17:32.876Z"
   },
   {
    "duration": 6,
    "start_time": "2024-11-22T01:17:32.910Z"
   },
   {
    "duration": 6,
    "start_time": "2024-11-22T01:17:32.918Z"
   },
   {
    "duration": 31,
    "start_time": "2024-11-22T01:17:32.925Z"
   },
   {
    "duration": 34,
    "start_time": "2024-11-22T01:17:32.958Z"
   },
   {
    "duration": 7,
    "start_time": "2024-11-22T01:17:32.994Z"
   },
   {
    "duration": 11,
    "start_time": "2024-11-22T01:17:33.002Z"
   },
   {
    "duration": 10,
    "start_time": "2024-11-22T01:17:33.015Z"
   },
   {
    "duration": 655,
    "start_time": "2024-11-22T01:17:33.028Z"
   },
   {
    "duration": 4,
    "start_time": "2024-11-22T01:17:33.685Z"
   },
   {
    "duration": 13,
    "start_time": "2024-11-22T01:17:33.693Z"
   },
   {
    "duration": 4,
    "start_time": "2024-11-22T01:17:33.708Z"
   },
   {
    "duration": 378,
    "start_time": "2024-11-22T01:17:33.714Z"
   },
   {
    "duration": 0,
    "start_time": "2024-11-22T01:17:34.094Z"
   },
   {
    "duration": 0,
    "start_time": "2024-11-22T01:17:34.096Z"
   },
   {
    "duration": 0,
    "start_time": "2024-11-22T01:17:34.104Z"
   },
   {
    "duration": 1104,
    "start_time": "2024-11-22T01:29:18.971Z"
   },
   {
    "duration": 8,
    "start_time": "2024-11-22T01:29:20.078Z"
   },
   {
    "duration": 4,
    "start_time": "2024-11-22T01:29:20.088Z"
   },
   {
    "duration": 23,
    "start_time": "2024-11-22T01:29:20.093Z"
   },
   {
    "duration": 9,
    "start_time": "2024-11-22T01:29:20.119Z"
   },
   {
    "duration": 3,
    "start_time": "2024-11-22T01:29:20.130Z"
   },
   {
    "duration": 9,
    "start_time": "2024-11-22T01:29:20.134Z"
   },
   {
    "duration": 18,
    "start_time": "2024-11-22T01:29:20.144Z"
   },
   {
    "duration": 2711,
    "start_time": "2024-11-22T01:29:20.163Z"
   },
   {
    "duration": 3,
    "start_time": "2024-11-22T01:29:22.876Z"
   },
   {
    "duration": 4,
    "start_time": "2024-11-22T01:29:22.881Z"
   },
   {
    "duration": 10,
    "start_time": "2024-11-22T01:29:22.887Z"
   },
   {
    "duration": 14,
    "start_time": "2024-11-22T01:29:22.899Z"
   },
   {
    "duration": 22,
    "start_time": "2024-11-22T01:29:22.918Z"
   },
   {
    "duration": 22,
    "start_time": "2024-11-22T01:29:22.941Z"
   },
   {
    "duration": 41,
    "start_time": "2024-11-22T01:29:22.965Z"
   },
   {
    "duration": 15,
    "start_time": "2024-11-22T01:29:23.009Z"
   },
   {
    "duration": 4,
    "start_time": "2024-11-22T01:29:23.026Z"
   },
   {
    "duration": 7,
    "start_time": "2024-11-22T01:29:23.031Z"
   },
   {
    "duration": 3,
    "start_time": "2024-11-22T01:29:23.040Z"
   },
   {
    "duration": 5,
    "start_time": "2024-11-22T01:29:23.045Z"
   },
   {
    "duration": 58,
    "start_time": "2024-11-22T01:29:23.052Z"
   },
   {
    "duration": 6,
    "start_time": "2024-11-22T01:29:23.113Z"
   },
   {
    "duration": 8,
    "start_time": "2024-11-22T01:29:23.121Z"
   },
   {
    "duration": 7,
    "start_time": "2024-11-22T01:29:23.131Z"
   },
   {
    "duration": 651,
    "start_time": "2024-11-22T01:29:23.140Z"
   },
   {
    "duration": 3,
    "start_time": "2024-11-22T01:29:23.793Z"
   },
   {
    "duration": 7,
    "start_time": "2024-11-22T01:29:23.806Z"
   },
   {
    "duration": 4,
    "start_time": "2024-11-22T01:29:23.815Z"
   },
   {
    "duration": 412,
    "start_time": "2024-11-22T01:29:23.822Z"
   },
   {
    "duration": 0,
    "start_time": "2024-11-22T01:29:24.236Z"
   },
   {
    "duration": 0,
    "start_time": "2024-11-22T01:29:24.237Z"
   },
   {
    "duration": 0,
    "start_time": "2024-11-22T01:29:24.238Z"
   },
   {
    "duration": 3,
    "start_time": "2024-11-22T01:31:10.291Z"
   },
   {
    "duration": 72,
    "start_time": "2024-11-22T01:31:12.036Z"
   },
   {
    "duration": 3,
    "start_time": "2024-11-22T01:31:34.381Z"
   },
   {
    "duration": 42,
    "start_time": "2024-11-22T01:31:38.166Z"
   },
   {
    "duration": 15,
    "start_time": "2024-11-22T01:33:26.895Z"
   },
   {
    "duration": 15,
    "start_time": "2024-11-22T01:33:33.900Z"
   },
   {
    "duration": 4,
    "start_time": "2024-11-22T01:34:38.206Z"
   },
   {
    "duration": 16,
    "start_time": "2024-11-22T01:34:40.277Z"
   },
   {
    "duration": 1111,
    "start_time": "2024-11-22T01:35:43.671Z"
   },
   {
    "duration": 7,
    "start_time": "2024-11-22T01:35:44.784Z"
   },
   {
    "duration": 3,
    "start_time": "2024-11-22T01:35:44.793Z"
   },
   {
    "duration": 16,
    "start_time": "2024-11-22T01:35:44.798Z"
   },
   {
    "duration": 10,
    "start_time": "2024-11-22T01:35:44.816Z"
   },
   {
    "duration": 3,
    "start_time": "2024-11-22T01:35:44.828Z"
   },
   {
    "duration": 9,
    "start_time": "2024-11-22T01:35:44.833Z"
   },
   {
    "duration": 17,
    "start_time": "2024-11-22T01:35:44.845Z"
   },
   {
    "duration": 2702,
    "start_time": "2024-11-22T01:35:44.864Z"
   },
   {
    "duration": 3,
    "start_time": "2024-11-22T01:35:47.570Z"
   },
   {
    "duration": 5,
    "start_time": "2024-11-22T01:35:47.575Z"
   },
   {
    "duration": 13,
    "start_time": "2024-11-22T01:35:47.582Z"
   },
   {
    "duration": 14,
    "start_time": "2024-11-22T01:35:47.599Z"
   },
   {
    "duration": 24,
    "start_time": "2024-11-22T01:35:47.615Z"
   },
   {
    "duration": 21,
    "start_time": "2024-11-22T01:35:47.641Z"
   },
   {
    "duration": 14,
    "start_time": "2024-11-22T01:35:47.664Z"
   },
   {
    "duration": 36,
    "start_time": "2024-11-22T01:35:47.680Z"
   },
   {
    "duration": 4,
    "start_time": "2024-11-22T01:35:47.720Z"
   },
   {
    "duration": 5,
    "start_time": "2024-11-22T01:35:47.726Z"
   },
   {
    "duration": 4,
    "start_time": "2024-11-22T01:35:47.732Z"
   },
   {
    "duration": 3,
    "start_time": "2024-11-22T01:35:47.737Z"
   },
   {
    "duration": 21,
    "start_time": "2024-11-22T01:35:47.741Z"
   },
   {
    "duration": 45,
    "start_time": "2024-11-22T01:35:47.764Z"
   },
   {
    "duration": 6,
    "start_time": "2024-11-22T01:35:47.811Z"
   },
   {
    "duration": 8,
    "start_time": "2024-11-22T01:35:47.819Z"
   },
   {
    "duration": 652,
    "start_time": "2024-11-22T01:35:47.829Z"
   },
   {
    "duration": 6,
    "start_time": "2024-11-22T01:35:48.483Z"
   },
   {
    "duration": 7,
    "start_time": "2024-11-22T01:35:48.507Z"
   },
   {
    "duration": 3,
    "start_time": "2024-11-22T01:35:48.516Z"
   },
   {
    "duration": 377,
    "start_time": "2024-11-22T01:35:48.520Z"
   },
   {
    "duration": 0,
    "start_time": "2024-11-22T01:35:48.899Z"
   },
   {
    "duration": 0,
    "start_time": "2024-11-22T01:35:48.900Z"
   },
   {
    "duration": 0,
    "start_time": "2024-11-22T01:35:48.906Z"
   },
   {
    "duration": 0,
    "start_time": "2024-11-22T01:35:48.907Z"
   },
   {
    "duration": 0,
    "start_time": "2024-11-22T01:35:48.912Z"
   },
   {
    "duration": 0,
    "start_time": "2024-11-22T01:35:48.913Z"
   },
   {
    "duration": 4,
    "start_time": "2024-11-22T01:36:04.203Z"
   },
   {
    "duration": 15,
    "start_time": "2024-11-22T01:36:07.421Z"
   },
   {
    "duration": 15,
    "start_time": "2024-11-22T01:36:37.796Z"
   },
   {
    "duration": 20,
    "start_time": "2024-11-22T01:38:08.744Z"
   },
   {
    "duration": 34,
    "start_time": "2024-11-22T01:38:33.098Z"
   },
   {
    "duration": 4,
    "start_time": "2024-11-22T01:39:39.510Z"
   },
   {
    "duration": 4,
    "start_time": "2024-11-22T01:39:45.938Z"
   },
   {
    "duration": 1066,
    "start_time": "2024-11-22T01:39:56.900Z"
   },
   {
    "duration": 8,
    "start_time": "2024-11-22T01:39:57.968Z"
   },
   {
    "duration": 4,
    "start_time": "2024-11-22T01:39:57.977Z"
   },
   {
    "duration": 24,
    "start_time": "2024-11-22T01:39:57.983Z"
   },
   {
    "duration": 10,
    "start_time": "2024-11-22T01:39:58.010Z"
   },
   {
    "duration": 4,
    "start_time": "2024-11-22T01:39:58.022Z"
   },
   {
    "duration": 9,
    "start_time": "2024-11-22T01:39:58.027Z"
   },
   {
    "duration": 18,
    "start_time": "2024-11-22T01:39:58.037Z"
   },
   {
    "duration": 2653,
    "start_time": "2024-11-22T01:39:58.057Z"
   },
   {
    "duration": 2,
    "start_time": "2024-11-22T01:40:00.715Z"
   },
   {
    "duration": 5,
    "start_time": "2024-11-22T01:40:00.719Z"
   },
   {
    "duration": 10,
    "start_time": "2024-11-22T01:40:00.725Z"
   },
   {
    "duration": 9,
    "start_time": "2024-11-22T01:40:00.736Z"
   },
   {
    "duration": 21,
    "start_time": "2024-11-22T01:40:00.747Z"
   },
   {
    "duration": 54,
    "start_time": "2024-11-22T01:40:00.770Z"
   },
   {
    "duration": 13,
    "start_time": "2024-11-22T01:40:00.827Z"
   },
   {
    "duration": 13,
    "start_time": "2024-11-22T01:40:00.843Z"
   },
   {
    "duration": 5,
    "start_time": "2024-11-22T01:40:00.857Z"
   },
   {
    "duration": 7,
    "start_time": "2024-11-22T01:40:00.863Z"
   },
   {
    "duration": 35,
    "start_time": "2024-11-22T01:40:00.872Z"
   },
   {
    "duration": 4,
    "start_time": "2024-11-22T01:40:00.910Z"
   },
   {
    "duration": 21,
    "start_time": "2024-11-22T01:40:00.916Z"
   },
   {
    "duration": 7,
    "start_time": "2024-11-22T01:40:00.939Z"
   },
   {
    "duration": 7,
    "start_time": "2024-11-22T01:40:00.947Z"
   },
   {
    "duration": 6,
    "start_time": "2024-11-22T01:40:00.957Z"
   },
   {
    "duration": 667,
    "start_time": "2024-11-22T01:40:00.965Z"
   },
   {
    "duration": 5,
    "start_time": "2024-11-22T01:40:01.634Z"
   },
   {
    "duration": 4,
    "start_time": "2024-11-22T01:40:01.643Z"
   },
   {
    "duration": 3,
    "start_time": "2024-11-22T01:40:01.649Z"
   },
   {
    "duration": 371,
    "start_time": "2024-11-22T01:40:01.654Z"
   },
   {
    "duration": 0,
    "start_time": "2024-11-22T01:40:02.027Z"
   },
   {
    "duration": 0,
    "start_time": "2024-11-22T01:40:02.028Z"
   },
   {
    "duration": 0,
    "start_time": "2024-11-22T01:40:02.030Z"
   },
   {
    "duration": 0,
    "start_time": "2024-11-22T01:40:02.031Z"
   },
   {
    "duration": 0,
    "start_time": "2024-11-22T01:40:02.032Z"
   },
   {
    "duration": 0,
    "start_time": "2024-11-22T01:40:02.033Z"
   },
   {
    "duration": 3,
    "start_time": "2024-11-22T01:40:09.825Z"
   },
   {
    "duration": 4,
    "start_time": "2024-11-22T01:40:11.263Z"
   },
   {
    "duration": 3,
    "start_time": "2024-11-22T01:40:15.161Z"
   },
   {
    "duration": 21,
    "start_time": "2024-11-22T01:41:34.151Z"
   },
   {
    "duration": 2927,
    "start_time": "2024-11-23T02:35:20.191Z"
   },
   {
    "duration": 0,
    "start_time": "2024-11-23T02:35:23.121Z"
   },
   {
    "duration": 0,
    "start_time": "2024-11-23T02:35:23.122Z"
   },
   {
    "duration": 0,
    "start_time": "2024-11-23T02:35:23.124Z"
   },
   {
    "duration": 0,
    "start_time": "2024-11-23T02:35:23.125Z"
   },
   {
    "duration": 0,
    "start_time": "2024-11-23T02:35:23.127Z"
   },
   {
    "duration": 0,
    "start_time": "2024-11-23T02:35:23.128Z"
   },
   {
    "duration": 0,
    "start_time": "2024-11-23T02:35:23.130Z"
   },
   {
    "duration": 0,
    "start_time": "2024-11-23T02:35:23.132Z"
   },
   {
    "duration": 0,
    "start_time": "2024-11-23T02:35:23.133Z"
   },
   {
    "duration": 0,
    "start_time": "2024-11-23T02:35:23.134Z"
   },
   {
    "duration": 0,
    "start_time": "2024-11-23T02:35:23.136Z"
   },
   {
    "duration": 0,
    "start_time": "2024-11-23T02:35:23.137Z"
   },
   {
    "duration": 0,
    "start_time": "2024-11-23T02:35:23.138Z"
   },
   {
    "duration": 0,
    "start_time": "2024-11-23T02:35:23.170Z"
   },
   {
    "duration": 0,
    "start_time": "2024-11-23T02:35:23.172Z"
   },
   {
    "duration": 0,
    "start_time": "2024-11-23T02:35:23.173Z"
   },
   {
    "duration": 0,
    "start_time": "2024-11-23T02:35:23.174Z"
   },
   {
    "duration": 0,
    "start_time": "2024-11-23T02:35:23.176Z"
   },
   {
    "duration": 0,
    "start_time": "2024-11-23T02:35:23.178Z"
   },
   {
    "duration": 0,
    "start_time": "2024-11-23T02:35:23.179Z"
   },
   {
    "duration": 0,
    "start_time": "2024-11-23T02:35:23.182Z"
   },
   {
    "duration": 0,
    "start_time": "2024-11-23T02:35:23.183Z"
   },
   {
    "duration": 0,
    "start_time": "2024-11-23T02:35:23.185Z"
   },
   {
    "duration": 0,
    "start_time": "2024-11-23T02:35:23.186Z"
   },
   {
    "duration": 0,
    "start_time": "2024-11-23T02:35:23.188Z"
   },
   {
    "duration": 0,
    "start_time": "2024-11-23T02:35:23.189Z"
   },
   {
    "duration": 0,
    "start_time": "2024-11-23T02:35:23.190Z"
   },
   {
    "duration": 0,
    "start_time": "2024-11-23T02:35:23.192Z"
   },
   {
    "duration": 0,
    "start_time": "2024-11-23T02:35:23.192Z"
   },
   {
    "duration": 0,
    "start_time": "2024-11-23T02:35:23.194Z"
   },
   {
    "duration": 0,
    "start_time": "2024-11-23T02:35:23.195Z"
   },
   {
    "duration": 0,
    "start_time": "2024-11-23T02:35:23.196Z"
   },
   {
    "duration": 0,
    "start_time": "2024-11-23T02:35:23.197Z"
   },
   {
    "duration": 0,
    "start_time": "2024-11-23T02:35:23.198Z"
   },
   {
    "duration": 0,
    "start_time": "2024-11-23T02:35:23.199Z"
   },
   {
    "duration": 15,
    "start_time": "2024-11-23T02:35:56.239Z"
   },
   {
    "duration": 9,
    "start_time": "2024-11-23T02:35:56.257Z"
   },
   {
    "duration": 3,
    "start_time": "2024-11-23T02:35:56.268Z"
   },
   {
    "duration": 12,
    "start_time": "2024-11-23T02:35:56.273Z"
   },
   {
    "duration": 8,
    "start_time": "2024-11-23T02:35:56.288Z"
   },
   {
    "duration": 3,
    "start_time": "2024-11-23T02:35:56.298Z"
   },
   {
    "duration": 7,
    "start_time": "2024-11-23T02:35:56.302Z"
   },
   {
    "duration": 17,
    "start_time": "2024-11-23T02:35:56.310Z"
   },
   {
    "duration": 2662,
    "start_time": "2024-11-23T02:35:56.328Z"
   },
   {
    "duration": 3,
    "start_time": "2024-11-23T02:35:58.992Z"
   },
   {
    "duration": 4,
    "start_time": "2024-11-23T02:35:58.996Z"
   },
   {
    "duration": 8,
    "start_time": "2024-11-23T02:35:59.002Z"
   },
   {
    "duration": 9,
    "start_time": "2024-11-23T02:35:59.011Z"
   },
   {
    "duration": 19,
    "start_time": "2024-11-23T02:35:59.024Z"
   },
   {
    "duration": 43,
    "start_time": "2024-11-23T02:35:59.045Z"
   },
   {
    "duration": 11,
    "start_time": "2024-11-23T02:35:59.089Z"
   },
   {
    "duration": 11,
    "start_time": "2024-11-23T02:35:59.102Z"
   },
   {
    "duration": 3,
    "start_time": "2024-11-23T02:35:59.115Z"
   },
   {
    "duration": 5,
    "start_time": "2024-11-23T02:35:59.119Z"
   },
   {
    "duration": 3,
    "start_time": "2024-11-23T02:35:59.125Z"
   },
   {
    "duration": 2,
    "start_time": "2024-11-23T02:35:59.130Z"
   },
   {
    "duration": 53,
    "start_time": "2024-11-23T02:35:59.134Z"
   },
   {
    "duration": 7,
    "start_time": "2024-11-23T02:35:59.189Z"
   },
   {
    "duration": 6,
    "start_time": "2024-11-23T02:35:59.198Z"
   },
   {
    "duration": 8,
    "start_time": "2024-11-23T02:35:59.206Z"
   },
   {
    "duration": 627,
    "start_time": "2024-11-23T02:35:59.215Z"
   },
   {
    "duration": 4,
    "start_time": "2024-11-23T02:35:59.844Z"
   },
   {
    "duration": 20,
    "start_time": "2024-11-23T02:35:59.850Z"
   },
   {
    "duration": 3,
    "start_time": "2024-11-23T02:35:59.872Z"
   },
   {
    "duration": 14,
    "start_time": "2024-11-23T02:35:59.877Z"
   },
   {
    "duration": 5,
    "start_time": "2024-11-23T02:35:59.893Z"
   },
   {
    "duration": 69,
    "start_time": "2024-11-23T02:35:59.900Z"
   },
   {
    "duration": 6,
    "start_time": "2024-11-23T02:35:59.971Z"
   },
   {
    "duration": 6,
    "start_time": "2024-11-23T02:35:59.978Z"
   },
   {
    "duration": 4,
    "start_time": "2024-11-23T02:35:59.985Z"
   },
   {
    "duration": 79,
    "start_time": "2024-11-23T02:35:59.991Z"
   },
   {
    "duration": 3053,
    "start_time": "2024-11-24T23:44:52.915Z"
   },
   {
    "duration": 67,
    "start_time": "2024-11-24T23:44:55.971Z"
   },
   {
    "duration": 4,
    "start_time": "2024-11-24T23:44:56.041Z"
   },
   {
    "duration": 16,
    "start_time": "2024-11-24T23:44:56.047Z"
   },
   {
    "duration": 9,
    "start_time": "2024-11-24T23:44:56.066Z"
   },
   {
    "duration": 4,
    "start_time": "2024-11-24T23:44:56.076Z"
   },
   {
    "duration": 30,
    "start_time": "2024-11-24T23:44:56.081Z"
   },
   {
    "duration": 17,
    "start_time": "2024-11-24T23:44:56.112Z"
   },
   {
    "duration": 2599,
    "start_time": "2024-11-24T23:44:56.130Z"
   },
   {
    "duration": 2,
    "start_time": "2024-11-24T23:44:58.732Z"
   },
   {
    "duration": 4,
    "start_time": "2024-11-24T23:44:58.736Z"
   },
   {
    "duration": 8,
    "start_time": "2024-11-24T23:44:58.742Z"
   },
   {
    "duration": 8,
    "start_time": "2024-11-24T23:44:58.751Z"
   },
   {
    "duration": 19,
    "start_time": "2024-11-24T23:44:58.763Z"
   },
   {
    "duration": 23,
    "start_time": "2024-11-24T23:44:58.783Z"
   },
   {
    "duration": 11,
    "start_time": "2024-11-24T23:44:58.808Z"
   },
   {
    "duration": 10,
    "start_time": "2024-11-24T23:44:58.821Z"
   },
   {
    "duration": 4,
    "start_time": "2024-11-24T23:44:58.832Z"
   },
   {
    "duration": 5,
    "start_time": "2024-11-24T23:44:58.837Z"
   },
   {
    "duration": 3,
    "start_time": "2024-11-24T23:44:58.843Z"
   },
   {
    "duration": 3,
    "start_time": "2024-11-24T23:44:58.848Z"
   },
   {
    "duration": 54,
    "start_time": "2024-11-24T23:44:58.853Z"
   },
   {
    "duration": 6,
    "start_time": "2024-11-24T23:44:58.908Z"
   },
   {
    "duration": 7,
    "start_time": "2024-11-24T23:44:58.917Z"
   },
   {
    "duration": 5,
    "start_time": "2024-11-24T23:44:58.926Z"
   },
   {
    "duration": 600,
    "start_time": "2024-11-24T23:44:58.933Z"
   },
   {
    "duration": 3,
    "start_time": "2024-11-24T23:44:59.535Z"
   },
   {
    "duration": 3,
    "start_time": "2024-11-24T23:44:59.540Z"
   },
   {
    "duration": 3,
    "start_time": "2024-11-24T23:44:59.545Z"
   },
   {
    "duration": 7,
    "start_time": "2024-11-24T23:44:59.550Z"
   },
   {
    "duration": 52,
    "start_time": "2024-11-24T23:44:59.558Z"
   },
   {
    "duration": 4,
    "start_time": "2024-11-24T23:44:59.611Z"
   },
   {
    "duration": 4,
    "start_time": "2024-11-24T23:44:59.619Z"
   },
   {
    "duration": 3,
    "start_time": "2024-11-24T23:44:59.625Z"
   },
   {
    "duration": 76,
    "start_time": "2024-11-24T23:44:59.630Z"
   },
   {
    "duration": 3,
    "start_time": "2024-11-24T23:44:59.707Z"
   },
   {
    "duration": 3,
    "start_time": "2024-11-24T23:44:59.712Z"
   },
   {
    "duration": 220,
    "start_time": "2024-11-24T23:50:18.402Z"
   },
   {
    "duration": 13,
    "start_time": "2024-11-24T23:51:55.433Z"
   },
   {
    "duration": 3,
    "start_time": "2024-11-24T23:52:06.570Z"
   },
   {
    "duration": 4,
    "start_time": "2024-11-24T23:52:13.774Z"
   },
   {
    "duration": 17,
    "start_time": "2024-11-24T23:55:19.892Z"
   },
   {
    "duration": 3,
    "start_time": "2024-11-24T23:55:31.392Z"
   },
   {
    "duration": 7,
    "start_time": "2024-11-24T23:55:31.647Z"
   },
   {
    "duration": 3,
    "start_time": "2024-11-24T23:55:31.656Z"
   },
   {
    "duration": 8,
    "start_time": "2024-11-24T23:55:31.661Z"
   },
   {
    "duration": 8,
    "start_time": "2024-11-24T23:55:31.670Z"
   },
   {
    "duration": 3,
    "start_time": "2024-11-24T23:55:31.680Z"
   },
   {
    "duration": 9,
    "start_time": "2024-11-24T23:55:31.684Z"
   },
   {
    "duration": 21,
    "start_time": "2024-11-24T23:55:31.695Z"
   },
   {
    "duration": 2584,
    "start_time": "2024-11-24T23:55:31.717Z"
   },
   {
    "duration": 2,
    "start_time": "2024-11-24T23:55:34.306Z"
   },
   {
    "duration": 3,
    "start_time": "2024-11-24T23:55:34.311Z"
   },
   {
    "duration": 10,
    "start_time": "2024-11-24T23:55:34.316Z"
   },
   {
    "duration": 8,
    "start_time": "2024-11-24T23:55:34.327Z"
   },
   {
    "duration": 19,
    "start_time": "2024-11-24T23:55:34.336Z"
   },
   {
    "duration": 19,
    "start_time": "2024-11-24T23:55:34.357Z"
   },
   {
    "duration": 38,
    "start_time": "2024-11-24T23:55:34.377Z"
   },
   {
    "duration": 11,
    "start_time": "2024-11-24T23:55:34.417Z"
   },
   {
    "duration": 3,
    "start_time": "2024-11-24T23:55:34.430Z"
   },
   {
    "duration": 5,
    "start_time": "2024-11-24T23:55:34.434Z"
   },
   {
    "duration": 3,
    "start_time": "2024-11-24T23:55:34.441Z"
   },
   {
    "duration": 3,
    "start_time": "2024-11-24T23:55:34.446Z"
   },
   {
    "duration": 55,
    "start_time": "2024-11-24T23:55:34.453Z"
   },
   {
    "duration": 4,
    "start_time": "2024-11-24T23:55:34.509Z"
   },
   {
    "duration": 6,
    "start_time": "2024-11-24T23:55:34.515Z"
   },
   {
    "duration": 6,
    "start_time": "2024-11-24T23:55:34.523Z"
   },
   {
    "duration": 603,
    "start_time": "2024-11-24T23:55:34.531Z"
   },
   {
    "duration": 3,
    "start_time": "2024-11-24T23:55:35.136Z"
   },
   {
    "duration": 3,
    "start_time": "2024-11-24T23:55:35.141Z"
   },
   {
    "duration": 4,
    "start_time": "2024-11-24T23:55:35.146Z"
   },
   {
    "duration": 7,
    "start_time": "2024-11-24T23:55:35.152Z"
   },
   {
    "duration": 45,
    "start_time": "2024-11-24T23:55:35.161Z"
   },
   {
    "duration": 6,
    "start_time": "2024-11-24T23:55:35.207Z"
   },
   {
    "duration": 4,
    "start_time": "2024-11-24T23:55:35.214Z"
   },
   {
    "duration": 5,
    "start_time": "2024-11-24T23:55:35.219Z"
   },
   {
    "duration": 4,
    "start_time": "2024-11-24T23:55:35.225Z"
   },
   {
    "duration": 4,
    "start_time": "2024-11-24T23:55:35.231Z"
   },
   {
    "duration": 3,
    "start_time": "2024-11-24T23:55:35.306Z"
   },
   {
    "duration": 6,
    "start_time": "2024-11-24T23:55:35.311Z"
   },
   {
    "duration": 15,
    "start_time": "2024-11-24T23:55:35.319Z"
   },
   {
    "duration": 10,
    "start_time": "2024-11-25T00:01:19.855Z"
   },
   {
    "duration": 5,
    "start_time": "2024-11-25T00:01:34.125Z"
   },
   {
    "duration": 9,
    "start_time": "2024-11-25T00:01:45.992Z"
   },
   {
    "duration": 3,
    "start_time": "2024-11-25T00:01:59.042Z"
   },
   {
    "duration": 3,
    "start_time": "2024-11-25T00:44:50.456Z"
   },
   {
    "duration": 67,
    "start_time": "2024-11-25T00:44:51.740Z"
   },
   {
    "duration": 4,
    "start_time": "2024-11-25T00:45:15.508Z"
   },
   {
    "duration": 10,
    "start_time": "2024-11-25T00:45:21.630Z"
   },
   {
    "duration": 5,
    "start_time": "2024-11-25T00:45:48.252Z"
   },
   {
    "duration": 5,
    "start_time": "2024-11-25T00:45:50.191Z"
   },
   {
    "duration": 6,
    "start_time": "2024-11-25T00:54:01.847Z"
   },
   {
    "duration": 6,
    "start_time": "2024-11-25T00:54:11.382Z"
   },
   {
    "duration": 6,
    "start_time": "2024-11-25T00:54:38.520Z"
   },
   {
    "duration": 8,
    "start_time": "2024-11-25T00:55:28.832Z"
   },
   {
    "duration": 6,
    "start_time": "2024-11-25T00:57:23.959Z"
   },
   {
    "duration": 6,
    "start_time": "2024-11-25T00:57:47.554Z"
   },
   {
    "duration": 4,
    "start_time": "2024-11-25T00:57:52.738Z"
   },
   {
    "duration": 6,
    "start_time": "2024-11-25T00:59:19.697Z"
   },
   {
    "duration": 75,
    "start_time": "2024-11-25T01:00:15.911Z"
   },
   {
    "duration": 4,
    "start_time": "2024-11-25T01:00:25.605Z"
   },
   {
    "duration": 9,
    "start_time": "2024-11-25T01:00:25.612Z"
   },
   {
    "duration": 3,
    "start_time": "2024-11-25T01:00:25.622Z"
   },
   {
    "duration": 9,
    "start_time": "2024-11-25T01:00:25.627Z"
   },
   {
    "duration": 40,
    "start_time": "2024-11-25T01:00:25.640Z"
   },
   {
    "duration": 13,
    "start_time": "2024-11-25T01:00:25.681Z"
   },
   {
    "duration": 8,
    "start_time": "2024-11-25T01:00:25.696Z"
   },
   {
    "duration": 15,
    "start_time": "2024-11-25T01:00:25.705Z"
   },
   {
    "duration": 2452,
    "start_time": "2024-11-25T01:00:25.722Z"
   },
   {
    "duration": 3,
    "start_time": "2024-11-25T01:00:28.175Z"
   },
   {
    "duration": 4,
    "start_time": "2024-11-25T01:00:28.180Z"
   },
   {
    "duration": 23,
    "start_time": "2024-11-25T01:00:28.186Z"
   },
   {
    "duration": 8,
    "start_time": "2024-11-25T01:00:28.211Z"
   },
   {
    "duration": 19,
    "start_time": "2024-11-25T01:00:28.223Z"
   },
   {
    "duration": 18,
    "start_time": "2024-11-25T01:00:28.244Z"
   },
   {
    "duration": 12,
    "start_time": "2024-11-25T01:00:28.263Z"
   },
   {
    "duration": 38,
    "start_time": "2024-11-25T01:00:28.276Z"
   },
   {
    "duration": 3,
    "start_time": "2024-11-25T01:00:28.316Z"
   },
   {
    "duration": 5,
    "start_time": "2024-11-25T01:00:28.320Z"
   },
   {
    "duration": 3,
    "start_time": "2024-11-25T01:00:28.327Z"
   },
   {
    "duration": 3,
    "start_time": "2024-11-25T01:00:28.332Z"
   },
   {
    "duration": 19,
    "start_time": "2024-11-25T01:00:28.337Z"
   },
   {
    "duration": 5,
    "start_time": "2024-11-25T01:00:28.357Z"
   },
   {
    "duration": 43,
    "start_time": "2024-11-25T01:00:28.363Z"
   },
   {
    "duration": 7,
    "start_time": "2024-11-25T01:00:28.408Z"
   },
   {
    "duration": 632,
    "start_time": "2024-11-25T01:00:28.418Z"
   },
   {
    "duration": 4,
    "start_time": "2024-11-25T01:00:29.052Z"
   },
   {
    "duration": 5,
    "start_time": "2024-11-25T01:00:29.058Z"
   },
   {
    "duration": 4,
    "start_time": "2024-11-25T01:00:29.064Z"
   },
   {
    "duration": 38,
    "start_time": "2024-11-25T01:00:29.069Z"
   },
   {
    "duration": 7,
    "start_time": "2024-11-25T01:00:29.109Z"
   },
   {
    "duration": 6,
    "start_time": "2024-11-25T01:00:29.117Z"
   },
   {
    "duration": 77,
    "start_time": "2024-11-25T01:00:29.127Z"
   },
   {
    "duration": 4,
    "start_time": "2024-11-25T01:00:29.205Z"
   },
   {
    "duration": 5,
    "start_time": "2024-11-25T01:00:29.210Z"
   },
   {
    "duration": 5,
    "start_time": "2024-11-25T01:00:29.216Z"
   },
   {
    "duration": 5,
    "start_time": "2024-11-25T01:00:29.222Z"
   },
   {
    "duration": 5,
    "start_time": "2024-11-25T01:00:29.228Z"
   },
   {
    "duration": 24,
    "start_time": "2024-11-25T01:00:29.234Z"
   },
   {
    "duration": 0,
    "start_time": "2024-11-25T01:00:29.259Z"
   },
   {
    "duration": 0,
    "start_time": "2024-11-25T01:00:29.260Z"
   },
   {
    "duration": 0,
    "start_time": "2024-11-25T01:00:29.262Z"
   },
   {
    "duration": 4,
    "start_time": "2024-11-25T01:01:12.341Z"
   },
   {
    "duration": 4,
    "start_time": "2024-11-25T01:01:50.333Z"
   },
   {
    "duration": 3,
    "start_time": "2024-11-25T01:01:58.913Z"
   },
   {
    "duration": 4,
    "start_time": "2024-11-25T01:02:02.537Z"
   },
   {
    "duration": 4,
    "start_time": "2024-11-25T01:02:06.852Z"
   },
   {
    "duration": 3,
    "start_time": "2024-11-25T01:02:55.408Z"
   },
   {
    "duration": 4,
    "start_time": "2024-11-25T01:03:01.494Z"
   },
   {
    "duration": 2,
    "start_time": "2024-11-25T01:03:25.508Z"
   },
   {
    "duration": 4,
    "start_time": "2024-11-25T01:03:26.456Z"
   },
   {
    "duration": 5,
    "start_time": "2024-11-25T01:04:11.110Z"
   },
   {
    "duration": 12,
    "start_time": "2024-11-25T01:04:57.571Z"
   },
   {
    "duration": 14,
    "start_time": "2024-11-25T01:05:20.550Z"
   },
   {
    "duration": 25,
    "start_time": "2024-11-25T01:06:50.066Z"
   },
   {
    "duration": 3,
    "start_time": "2024-11-25T01:07:07.819Z"
   },
   {
    "duration": 31,
    "start_time": "2024-11-25T01:08:43.407Z"
   },
   {
    "duration": 24,
    "start_time": "2024-11-25T01:08:58.856Z"
   },
   {
    "duration": 27,
    "start_time": "2024-11-25T01:09:51.570Z"
   },
   {
    "duration": 3,
    "start_time": "2024-11-25T01:10:59.557Z"
   },
   {
    "duration": 4,
    "start_time": "2024-11-25T01:11:06.062Z"
   },
   {
    "duration": 25,
    "start_time": "2024-11-25T01:11:10.703Z"
   },
   {
    "duration": 15,
    "start_time": "2024-11-25T01:11:27.831Z"
   },
   {
    "duration": 4,
    "start_time": "2024-11-25T01:11:52.407Z"
   },
   {
    "duration": 3,
    "start_time": "2024-11-25T01:11:57.160Z"
   },
   {
    "duration": 9,
    "start_time": "2024-11-25T01:12:17.775Z"
   },
   {
    "duration": 4,
    "start_time": "2024-11-25T01:12:48.667Z"
   },
   {
    "duration": 15,
    "start_time": "2024-11-25T01:12:50.338Z"
   },
   {
    "duration": 27,
    "start_time": "2024-11-25T01:14:23.108Z"
   },
   {
    "duration": 24,
    "start_time": "2024-11-25T01:14:28.169Z"
   },
   {
    "duration": 3,
    "start_time": "2024-11-25T01:14:52.922Z"
   },
   {
    "duration": 3,
    "start_time": "2024-11-25T01:14:54.281Z"
   },
   {
    "duration": 3,
    "start_time": "2024-11-25T01:15:06.405Z"
   },
   {
    "duration": 3,
    "start_time": "2024-11-25T01:15:13.822Z"
   },
   {
    "duration": 3,
    "start_time": "2024-11-25T01:15:21.635Z"
   },
   {
    "duration": 3,
    "start_time": "2024-11-25T01:15:23.374Z"
   },
   {
    "duration": 3,
    "start_time": "2024-11-25T01:16:30.090Z"
   },
   {
    "duration": 27,
    "start_time": "2024-11-25T01:16:43.035Z"
   },
   {
    "duration": 3025,
    "start_time": "2024-11-26T15:07:58.143Z"
   },
   {
    "duration": 15,
    "start_time": "2024-11-26T15:08:01.171Z"
   },
   {
    "duration": 3,
    "start_time": "2024-11-26T15:08:01.188Z"
   },
   {
    "duration": 12,
    "start_time": "2024-11-26T15:08:01.193Z"
   },
   {
    "duration": 10,
    "start_time": "2024-11-26T15:08:01.206Z"
   },
   {
    "duration": 4,
    "start_time": "2024-11-26T15:08:01.218Z"
   },
   {
    "duration": 12,
    "start_time": "2024-11-26T15:08:01.244Z"
   },
   {
    "duration": 23,
    "start_time": "2024-11-26T15:08:01.260Z"
   },
   {
    "duration": 3040,
    "start_time": "2024-11-26T15:08:01.287Z"
   },
   {
    "duration": 3,
    "start_time": "2024-11-26T15:08:04.331Z"
   },
   {
    "duration": 106,
    "start_time": "2024-11-26T15:08:04.335Z"
   },
   {
    "duration": 12,
    "start_time": "2024-11-26T15:08:04.444Z"
   },
   {
    "duration": 9,
    "start_time": "2024-11-26T15:08:04.459Z"
   },
   {
    "duration": 32,
    "start_time": "2024-11-26T15:08:04.471Z"
   },
   {
    "duration": 57,
    "start_time": "2024-11-26T15:08:04.505Z"
   },
   {
    "duration": 15,
    "start_time": "2024-11-26T15:08:04.564Z"
   },
   {
    "duration": 14,
    "start_time": "2024-11-26T15:08:04.581Z"
   },
   {
    "duration": 3,
    "start_time": "2024-11-26T15:08:04.597Z"
   },
   {
    "duration": 6,
    "start_time": "2024-11-26T15:08:04.602Z"
   },
   {
    "duration": 4,
    "start_time": "2024-11-26T15:08:04.610Z"
   },
   {
    "duration": 3,
    "start_time": "2024-11-26T15:08:04.643Z"
   },
   {
    "duration": 20,
    "start_time": "2024-11-26T15:08:04.648Z"
   },
   {
    "duration": 7,
    "start_time": "2024-11-26T15:08:04.670Z"
   },
   {
    "duration": 6,
    "start_time": "2024-11-26T15:08:04.679Z"
   },
   {
    "duration": 8,
    "start_time": "2024-11-26T15:08:04.688Z"
   },
   {
    "duration": 707,
    "start_time": "2024-11-26T15:08:04.698Z"
   },
   {
    "duration": 5,
    "start_time": "2024-11-26T15:08:05.407Z"
   },
   {
    "duration": 4,
    "start_time": "2024-11-26T15:08:05.417Z"
   },
   {
    "duration": 5,
    "start_time": "2024-11-26T15:08:05.423Z"
   },
   {
    "duration": 13,
    "start_time": "2024-11-26T15:08:05.444Z"
   },
   {
    "duration": 7,
    "start_time": "2024-11-26T15:08:05.458Z"
   },
   {
    "duration": 4,
    "start_time": "2024-11-26T15:08:05.470Z"
   },
   {
    "duration": 66,
    "start_time": "2024-11-26T15:08:05.479Z"
   },
   {
    "duration": 4,
    "start_time": "2024-11-26T15:08:05.549Z"
   },
   {
    "duration": 6,
    "start_time": "2024-11-26T15:08:05.555Z"
   },
   {
    "duration": 9,
    "start_time": "2024-11-26T15:08:05.562Z"
   },
   {
    "duration": 387,
    "start_time": "2024-11-26T15:08:05.573Z"
   },
   {
    "duration": 0,
    "start_time": "2024-11-26T15:08:05.962Z"
   },
   {
    "duration": 0,
    "start_time": "2024-11-26T15:08:05.964Z"
   },
   {
    "duration": 0,
    "start_time": "2024-11-26T15:08:05.965Z"
   },
   {
    "duration": 0,
    "start_time": "2024-11-26T15:08:05.967Z"
   },
   {
    "duration": 0,
    "start_time": "2024-11-26T15:08:05.968Z"
   },
   {
    "duration": 0,
    "start_time": "2024-11-26T15:08:05.970Z"
   },
   {
    "duration": 0,
    "start_time": "2024-11-26T15:08:05.971Z"
   },
   {
    "duration": 4,
    "start_time": "2024-11-26T15:10:15.708Z"
   },
   {
    "duration": 9,
    "start_time": "2024-11-26T15:10:20.912Z"
   },
   {
    "duration": 22,
    "start_time": "2024-11-26T15:10:26.346Z"
   },
   {
    "duration": 6,
    "start_time": "2024-11-26T15:14:30.814Z"
   },
   {
    "duration": 9,
    "start_time": "2024-11-26T15:14:30.822Z"
   },
   {
    "duration": 3,
    "start_time": "2024-11-26T15:14:30.833Z"
   },
   {
    "duration": 11,
    "start_time": "2024-11-26T15:14:30.838Z"
   },
   {
    "duration": 16,
    "start_time": "2024-11-26T15:14:30.851Z"
   },
   {
    "duration": 5,
    "start_time": "2024-11-26T15:14:30.908Z"
   },
   {
    "duration": 3,
    "start_time": "2024-11-26T15:14:30.916Z"
   },
   {
    "duration": 5,
    "start_time": "2024-11-26T15:14:39.623Z"
   },
   {
    "duration": 7,
    "start_time": "2024-11-26T15:14:39.632Z"
   },
   {
    "duration": 4,
    "start_time": "2024-11-26T15:14:39.642Z"
   },
   {
    "duration": 10,
    "start_time": "2024-11-26T15:14:39.649Z"
   },
   {
    "duration": 12,
    "start_time": "2024-11-26T15:14:39.662Z"
   },
   {
    "duration": 18,
    "start_time": "2024-11-26T15:14:58.482Z"
   },
   {
    "duration": 4,
    "start_time": "2024-11-26T15:31:05.121Z"
   },
   {
    "duration": 8,
    "start_time": "2024-11-26T15:31:05.128Z"
   },
   {
    "duration": 3,
    "start_time": "2024-11-26T15:31:05.217Z"
   },
   {
    "duration": 10,
    "start_time": "2024-11-26T15:31:05.222Z"
   },
   {
    "duration": 9,
    "start_time": "2024-11-26T15:31:05.237Z"
   },
   {
    "duration": 3,
    "start_time": "2024-11-26T15:31:05.248Z"
   },
   {
    "duration": 9,
    "start_time": "2024-11-26T15:31:05.253Z"
   },
   {
    "duration": 20,
    "start_time": "2024-11-26T15:31:05.264Z"
   },
   {
    "duration": 2757,
    "start_time": "2024-11-26T15:31:05.288Z"
   },
   {
    "duration": 2,
    "start_time": "2024-11-26T15:31:08.048Z"
   },
   {
    "duration": 4,
    "start_time": "2024-11-26T15:31:08.053Z"
   },
   {
    "duration": 9,
    "start_time": "2024-11-26T15:31:08.059Z"
   },
   {
    "duration": 8,
    "start_time": "2024-11-26T15:31:08.070Z"
   },
   {
    "duration": 19,
    "start_time": "2024-11-26T15:31:08.080Z"
   },
   {
    "duration": 49,
    "start_time": "2024-11-26T15:31:08.101Z"
   },
   {
    "duration": 12,
    "start_time": "2024-11-26T15:31:08.153Z"
   },
   {
    "duration": 14,
    "start_time": "2024-11-26T15:31:08.167Z"
   },
   {
    "duration": 3,
    "start_time": "2024-11-26T15:31:08.183Z"
   },
   {
    "duration": 5,
    "start_time": "2024-11-26T15:31:08.188Z"
   },
   {
    "duration": 3,
    "start_time": "2024-11-26T15:31:08.195Z"
   },
   {
    "duration": 4,
    "start_time": "2024-11-26T15:31:08.199Z"
   },
   {
    "duration": 55,
    "start_time": "2024-11-26T15:31:08.205Z"
   },
   {
    "duration": 8,
    "start_time": "2024-11-26T15:32:01.485Z"
   },
   {
    "duration": 4,
    "start_time": "2024-11-26T15:32:12.155Z"
   },
   {
    "duration": 10,
    "start_time": "2024-11-26T15:32:12.161Z"
   },
   {
    "duration": 3,
    "start_time": "2024-11-26T15:32:12.239Z"
   },
   {
    "duration": 9,
    "start_time": "2024-11-26T15:32:12.245Z"
   },
   {
    "duration": 9,
    "start_time": "2024-11-26T15:32:12.257Z"
   },
   {
    "duration": 3,
    "start_time": "2024-11-26T15:32:12.267Z"
   },
   {
    "duration": 8,
    "start_time": "2024-11-26T15:32:12.273Z"
   },
   {
    "duration": 20,
    "start_time": "2024-11-26T15:32:12.341Z"
   },
   {
    "duration": 2831,
    "start_time": "2024-11-26T15:32:12.364Z"
   },
   {
    "duration": 5,
    "start_time": "2024-11-26T15:32:15.197Z"
   },
   {
    "duration": 5,
    "start_time": "2024-11-26T15:32:15.204Z"
   },
   {
    "duration": 9,
    "start_time": "2024-11-26T15:32:15.212Z"
   },
   {
    "duration": 9,
    "start_time": "2024-11-26T15:32:15.242Z"
   },
   {
    "duration": 23,
    "start_time": "2024-11-26T15:32:15.254Z"
   },
   {
    "duration": 31,
    "start_time": "2024-11-26T15:32:15.278Z"
   },
   {
    "duration": 36,
    "start_time": "2024-11-26T15:32:15.311Z"
   },
   {
    "duration": 16,
    "start_time": "2024-11-26T15:32:15.351Z"
   },
   {
    "duration": 5,
    "start_time": "2024-11-26T15:32:15.371Z"
   },
   {
    "duration": 5,
    "start_time": "2024-11-26T15:32:15.378Z"
   },
   {
    "duration": 4,
    "start_time": "2024-11-26T15:32:15.385Z"
   },
   {
    "duration": 4,
    "start_time": "2024-11-26T15:32:15.393Z"
   },
   {
    "duration": 52,
    "start_time": "2024-11-26T15:32:15.399Z"
   },
   {
    "duration": 9,
    "start_time": "2024-11-26T15:32:15.453Z"
   },
   {
    "duration": 8,
    "start_time": "2024-11-26T15:32:15.464Z"
   },
   {
    "duration": 4,
    "start_time": "2024-11-26T15:32:15.473Z"
   },
   {
    "duration": 608,
    "start_time": "2024-11-26T15:32:15.478Z"
   },
   {
    "duration": 3,
    "start_time": "2024-11-26T15:32:16.088Z"
   },
   {
    "duration": 5,
    "start_time": "2024-11-26T15:32:16.093Z"
   },
   {
    "duration": 3,
    "start_time": "2024-11-26T15:32:16.100Z"
   },
   {
    "duration": 43,
    "start_time": "2024-11-26T15:32:16.105Z"
   },
   {
    "duration": 10,
    "start_time": "2024-11-26T15:32:16.150Z"
   },
   {
    "duration": 9,
    "start_time": "2024-11-26T15:32:16.163Z"
   },
   {
    "duration": 72,
    "start_time": "2024-11-26T15:32:16.173Z"
   },
   {
    "duration": 4,
    "start_time": "2024-11-26T15:32:16.247Z"
   },
   {
    "duration": 3,
    "start_time": "2024-11-26T15:32:16.253Z"
   },
   {
    "duration": 5,
    "start_time": "2024-11-26T15:32:16.258Z"
   },
   {
    "duration": 25,
    "start_time": "2024-11-26T15:32:16.265Z"
   },
   {
    "duration": 0,
    "start_time": "2024-11-26T15:32:16.292Z"
   },
   {
    "duration": 0,
    "start_time": "2024-11-26T15:32:16.293Z"
   },
   {
    "duration": 0,
    "start_time": "2024-11-26T15:32:16.294Z"
   },
   {
    "duration": 0,
    "start_time": "2024-11-26T15:32:16.296Z"
   },
   {
    "duration": 0,
    "start_time": "2024-11-26T15:32:16.297Z"
   },
   {
    "duration": 0,
    "start_time": "2024-11-26T15:32:16.298Z"
   },
   {
    "duration": 0,
    "start_time": "2024-11-26T15:32:16.299Z"
   },
   {
    "duration": 3,
    "start_time": "2024-11-26T15:45:26.237Z"
   },
   {
    "duration": 3,
    "start_time": "2024-11-26T15:45:27.363Z"
   },
   {
    "duration": 3,
    "start_time": "2024-11-26T15:46:23.884Z"
   },
   {
    "duration": 3,
    "start_time": "2024-11-26T15:47:19.167Z"
   },
   {
    "duration": 6,
    "start_time": "2024-11-26T15:47:32.238Z"
   },
   {
    "duration": 12,
    "start_time": "2024-11-26T15:47:51.826Z"
   },
   {
    "duration": 34,
    "start_time": "2024-11-26T15:50:15.430Z"
   },
   {
    "duration": 17,
    "start_time": "2024-11-26T15:50:55.195Z"
   },
   {
    "duration": 3,
    "start_time": "2024-11-26T15:52:00.855Z"
   },
   {
    "duration": 31,
    "start_time": "2024-11-26T15:52:02.270Z"
   },
   {
    "duration": 4,
    "start_time": "2024-11-26T15:52:18.844Z"
   },
   {
    "duration": 3,
    "start_time": "2024-11-26T15:52:20.069Z"
   },
   {
    "duration": 3,
    "start_time": "2024-11-26T15:52:21.117Z"
   },
   {
    "duration": 26,
    "start_time": "2024-11-26T15:52:23.684Z"
   },
   {
    "duration": 4,
    "start_time": "2024-11-26T15:52:36.790Z"
   },
   {
    "duration": 3,
    "start_time": "2024-11-26T15:52:37.489Z"
   },
   {
    "duration": 3,
    "start_time": "2024-11-26T15:52:38.328Z"
   },
   {
    "duration": 7,
    "start_time": "2024-11-26T15:52:40.412Z"
   },
   {
    "duration": 3,
    "start_time": "2024-11-26T15:52:42.942Z"
   },
   {
    "duration": 5,
    "start_time": "2024-11-26T15:52:44.911Z"
   },
   {
    "duration": 15,
    "start_time": "2024-11-26T15:52:46.956Z"
   },
   {
    "duration": 34,
    "start_time": "2024-11-26T15:52:54.328Z"
   },
   {
    "duration": 3,
    "start_time": "2024-11-26T15:55:20.064Z"
   },
   {
    "duration": 3,
    "start_time": "2024-11-26T15:56:42.128Z"
   },
   {
    "duration": 19,
    "start_time": "2024-11-26T15:59:39.899Z"
   },
   {
    "duration": 4,
    "start_time": "2024-11-26T16:04:15.067Z"
   },
   {
    "duration": 4,
    "start_time": "2024-11-26T16:04:26.449Z"
   },
   {
    "duration": 12,
    "start_time": "2024-11-26T16:05:06.829Z"
   },
   {
    "duration": 4,
    "start_time": "2024-11-26T16:06:05.699Z"
   },
   {
    "duration": 8,
    "start_time": "2024-11-26T16:06:05.706Z"
   },
   {
    "duration": 3,
    "start_time": "2024-11-26T16:06:05.717Z"
   },
   {
    "duration": 8,
    "start_time": "2024-11-26T16:06:05.722Z"
   },
   {
    "duration": 9,
    "start_time": "2024-11-26T16:06:05.734Z"
   },
   {
    "duration": 3,
    "start_time": "2024-11-26T16:06:05.745Z"
   },
   {
    "duration": 9,
    "start_time": "2024-11-26T16:06:05.751Z"
   },
   {
    "duration": 17,
    "start_time": "2024-11-26T16:06:05.761Z"
   },
   {
    "duration": 2910,
    "start_time": "2024-11-26T16:06:05.780Z"
   },
   {
    "duration": 4,
    "start_time": "2024-11-26T16:06:08.693Z"
   },
   {
    "duration": 4,
    "start_time": "2024-11-26T16:06:08.699Z"
   },
   {
    "duration": 9,
    "start_time": "2024-11-26T16:06:08.707Z"
   },
   {
    "duration": 27,
    "start_time": "2024-11-26T16:06:08.718Z"
   },
   {
    "duration": 21,
    "start_time": "2024-11-26T16:06:08.746Z"
   },
   {
    "duration": 20,
    "start_time": "2024-11-26T16:06:08.769Z"
   },
   {
    "duration": 15,
    "start_time": "2024-11-26T16:06:08.791Z"
   },
   {
    "duration": 38,
    "start_time": "2024-11-26T16:06:08.808Z"
   },
   {
    "duration": 4,
    "start_time": "2024-11-26T16:06:08.848Z"
   },
   {
    "duration": 9,
    "start_time": "2024-11-26T16:06:08.854Z"
   },
   {
    "duration": 3,
    "start_time": "2024-11-26T16:06:08.866Z"
   },
   {
    "duration": 3,
    "start_time": "2024-11-26T16:06:08.872Z"
   },
   {
    "duration": 21,
    "start_time": "2024-11-26T16:06:08.876Z"
   },
   {
    "duration": 5,
    "start_time": "2024-11-26T16:06:08.899Z"
   },
   {
    "duration": 37,
    "start_time": "2024-11-26T16:06:08.906Z"
   },
   {
    "duration": 620,
    "start_time": "2024-11-26T16:06:08.945Z"
   },
   {
    "duration": 4,
    "start_time": "2024-11-26T16:06:09.567Z"
   },
   {
    "duration": 27,
    "start_time": "2024-11-26T16:06:09.573Z"
   },
   {
    "duration": 4,
    "start_time": "2024-11-26T16:06:09.604Z"
   },
   {
    "duration": 13,
    "start_time": "2024-11-26T16:06:09.610Z"
   },
   {
    "duration": 22,
    "start_time": "2024-11-26T16:06:09.624Z"
   },
   {
    "duration": 6,
    "start_time": "2024-11-26T16:06:09.648Z"
   },
   {
    "duration": 5,
    "start_time": "2024-11-26T16:06:09.657Z"
   },
   {
    "duration": 5,
    "start_time": "2024-11-26T16:06:09.664Z"
   },
   {
    "duration": 4,
    "start_time": "2024-11-26T16:06:09.671Z"
   },
   {
    "duration": 67,
    "start_time": "2024-11-26T16:06:09.677Z"
   },
   {
    "duration": 13,
    "start_time": "2024-11-26T16:06:09.746Z"
   },
   {
    "duration": 9,
    "start_time": "2024-11-26T16:06:09.761Z"
   },
   {
    "duration": 3,
    "start_time": "2024-11-26T16:06:09.772Z"
   },
   {
    "duration": 6,
    "start_time": "2024-11-26T16:06:09.777Z"
   },
   {
    "duration": 13,
    "start_time": "2024-11-26T16:06:09.784Z"
   },
   {
    "duration": 3,
    "start_time": "2024-11-26T16:06:09.799Z"
   },
   {
    "duration": 50,
    "start_time": "2024-11-26T16:06:09.804Z"
   },
   {
    "duration": 0,
    "start_time": "2024-11-26T16:06:09.856Z"
   },
   {
    "duration": 0,
    "start_time": "2024-11-26T16:06:09.857Z"
   },
   {
    "duration": 0,
    "start_time": "2024-11-26T16:06:09.859Z"
   },
   {
    "duration": 5,
    "start_time": "2024-11-26T16:07:42.903Z"
   },
   {
    "duration": 18,
    "start_time": "2024-11-26T16:11:13.181Z"
   },
   {
    "duration": 25,
    "start_time": "2024-11-26T16:11:33.161Z"
   },
   {
    "duration": 3,
    "start_time": "2024-11-26T16:12:24.315Z"
   },
   {
    "duration": 5,
    "start_time": "2024-11-26T16:13:53.189Z"
   },
   {
    "duration": 3,
    "start_time": "2024-11-26T16:14:11.468Z"
   },
   {
    "duration": 26,
    "start_time": "2024-11-26T16:17:25.050Z"
   },
   {
    "duration": 3,
    "start_time": "2024-11-26T16:21:56.603Z"
   },
   {
    "duration": 5,
    "start_time": "2024-11-26T16:22:05.943Z"
   },
   {
    "duration": 29,
    "start_time": "2024-11-26T16:22:13.263Z"
   },
   {
    "duration": 4,
    "start_time": "2024-11-26T16:22:44.983Z"
   },
   {
    "duration": 8,
    "start_time": "2024-11-26T16:22:45.002Z"
   },
   {
    "duration": 3,
    "start_time": "2024-11-26T16:22:45.013Z"
   },
   {
    "duration": 9,
    "start_time": "2024-11-26T16:22:45.017Z"
   },
   {
    "duration": 8,
    "start_time": "2024-11-26T16:22:45.028Z"
   },
   {
    "duration": 3,
    "start_time": "2024-11-26T16:22:45.039Z"
   },
   {
    "duration": 9,
    "start_time": "2024-11-26T16:22:45.043Z"
   },
   {
    "duration": 17,
    "start_time": "2024-11-26T16:22:45.054Z"
   },
   {
    "duration": 2816,
    "start_time": "2024-11-26T16:22:45.073Z"
   },
   {
    "duration": 3,
    "start_time": "2024-11-26T16:22:47.893Z"
   },
   {
    "duration": 5,
    "start_time": "2024-11-26T16:22:47.898Z"
   },
   {
    "duration": 10,
    "start_time": "2024-11-26T16:22:47.906Z"
   },
   {
    "duration": 26,
    "start_time": "2024-11-26T16:22:47.917Z"
   },
   {
    "duration": 22,
    "start_time": "2024-11-26T16:22:47.945Z"
   },
   {
    "duration": 20,
    "start_time": "2024-11-26T16:22:47.971Z"
   },
   {
    "duration": 12,
    "start_time": "2024-11-26T16:22:47.993Z"
   },
   {
    "duration": 43,
    "start_time": "2024-11-26T16:22:48.006Z"
   },
   {
    "duration": 4,
    "start_time": "2024-11-26T16:22:48.051Z"
   },
   {
    "duration": 6,
    "start_time": "2024-11-26T16:22:48.057Z"
   },
   {
    "duration": 4,
    "start_time": "2024-11-26T16:22:48.064Z"
   },
   {
    "duration": 3,
    "start_time": "2024-11-26T16:22:48.069Z"
   },
   {
    "duration": 20,
    "start_time": "2024-11-26T16:22:48.074Z"
   },
   {
    "duration": 6,
    "start_time": "2024-11-26T16:22:48.096Z"
   },
   {
    "duration": 4,
    "start_time": "2024-11-26T16:22:48.103Z"
   },
   {
    "duration": 576,
    "start_time": "2024-11-26T16:22:48.144Z"
   },
   {
    "duration": 3,
    "start_time": "2024-11-26T16:22:48.722Z"
   },
   {
    "duration": 4,
    "start_time": "2024-11-26T16:22:48.727Z"
   },
   {
    "duration": 4,
    "start_time": "2024-11-26T16:22:48.743Z"
   },
   {
    "duration": 12,
    "start_time": "2024-11-26T16:22:48.748Z"
   },
   {
    "duration": 4,
    "start_time": "2024-11-26T16:22:48.762Z"
   },
   {
    "duration": 4,
    "start_time": "2024-11-26T16:22:48.768Z"
   },
   {
    "duration": 71,
    "start_time": "2024-11-26T16:22:48.774Z"
   },
   {
    "duration": 3,
    "start_time": "2024-11-26T16:22:48.847Z"
   },
   {
    "duration": 3,
    "start_time": "2024-11-26T16:22:48.852Z"
   },
   {
    "duration": 3,
    "start_time": "2024-11-26T16:22:48.857Z"
   },
   {
    "duration": 4,
    "start_time": "2024-11-26T16:22:48.861Z"
   },
   {
    "duration": 3,
    "start_time": "2024-11-26T16:22:48.867Z"
   },
   {
    "duration": 5,
    "start_time": "2024-11-26T16:22:48.872Z"
   },
   {
    "duration": 73,
    "start_time": "2024-11-26T16:22:48.879Z"
   },
   {
    "duration": 3,
    "start_time": "2024-11-26T16:22:48.954Z"
   },
   {
    "duration": 16,
    "start_time": "2024-11-26T16:22:48.959Z"
   },
   {
    "duration": 0,
    "start_time": "2024-11-26T16:22:48.977Z"
   },
   {
    "duration": 0,
    "start_time": "2024-11-26T16:22:48.979Z"
   },
   {
    "duration": 0,
    "start_time": "2024-11-26T16:22:48.980Z"
   },
   {
    "duration": 26,
    "start_time": "2024-11-26T16:51:57.039Z"
   },
   {
    "duration": 3,
    "start_time": "2024-11-26T17:00:46.048Z"
   },
   {
    "duration": 2,
    "start_time": "2024-11-26T17:01:49.100Z"
   },
   {
    "duration": 4,
    "start_time": "2024-11-26T17:01:59.667Z"
   },
   {
    "duration": 6,
    "start_time": "2024-11-26T17:02:14.308Z"
   },
   {
    "duration": 4,
    "start_time": "2024-11-26T17:02:25.609Z"
   },
   {
    "duration": 3,
    "start_time": "2024-11-26T17:04:21.304Z"
   },
   {
    "duration": 11,
    "start_time": "2024-11-26T17:04:22.825Z"
   },
   {
    "duration": 2,
    "start_time": "2024-11-26T17:11:10.200Z"
   },
   {
    "duration": 16,
    "start_time": "2024-11-26T17:11:50.220Z"
   },
   {
    "duration": 3,
    "start_time": "2024-11-26T17:12:16.571Z"
   },
   {
    "duration": 21,
    "start_time": "2024-11-26T17:14:55.564Z"
   },
   {
    "duration": 5,
    "start_time": "2024-11-26T17:15:05.407Z"
   },
   {
    "duration": 5,
    "start_time": "2024-11-26T17:15:44.815Z"
   },
   {
    "duration": 12,
    "start_time": "2024-11-26T17:15:45.922Z"
   },
   {
    "duration": 30,
    "start_time": "2024-11-26T17:16:07.646Z"
   },
   {
    "duration": 11,
    "start_time": "2024-11-26T17:27:18.540Z"
   },
   {
    "duration": 506,
    "start_time": "2024-11-26T17:29:54.792Z"
   },
   {
    "duration": 15,
    "start_time": "2024-11-26T17:45:36.290Z"
   },
   {
    "duration": 3,
    "start_time": "2024-11-26T17:49:17.747Z"
   },
   {
    "duration": 488,
    "start_time": "2024-11-26T18:19:20.294Z"
   },
   {
    "duration": 10,
    "start_time": "2024-11-27T15:12:13.688Z"
   },
   {
    "duration": 2784,
    "start_time": "2024-11-27T15:19:12.478Z"
   },
   {
    "duration": 13,
    "start_time": "2024-11-27T15:19:15.264Z"
   },
   {
    "duration": 3,
    "start_time": "2024-11-27T15:19:15.279Z"
   },
   {
    "duration": 10,
    "start_time": "2024-11-27T15:19:15.284Z"
   },
   {
    "duration": 9,
    "start_time": "2024-11-27T15:19:15.306Z"
   },
   {
    "duration": 3,
    "start_time": "2024-11-27T15:19:15.317Z"
   },
   {
    "duration": 9,
    "start_time": "2024-11-27T15:19:15.322Z"
   },
   {
    "duration": 17,
    "start_time": "2024-11-27T15:19:15.333Z"
   },
   {
    "duration": 2618,
    "start_time": "2024-11-27T15:19:15.352Z"
   },
   {
    "duration": 2,
    "start_time": "2024-11-27T15:19:17.974Z"
   },
   {
    "duration": 80,
    "start_time": "2024-11-27T15:19:17.978Z"
   },
   {
    "duration": 8,
    "start_time": "2024-11-27T15:19:18.060Z"
   },
   {
    "duration": 7,
    "start_time": "2024-11-27T15:19:18.069Z"
   },
   {
    "duration": 32,
    "start_time": "2024-11-27T15:19:18.078Z"
   },
   {
    "duration": 19,
    "start_time": "2024-11-27T15:19:18.113Z"
   },
   {
    "duration": 15,
    "start_time": "2024-11-27T15:19:18.134Z"
   },
   {
    "duration": 12,
    "start_time": "2024-11-27T15:19:18.151Z"
   },
   {
    "duration": 4,
    "start_time": "2024-11-27T15:19:18.166Z"
   },
   {
    "duration": 35,
    "start_time": "2024-11-27T15:19:18.172Z"
   },
   {
    "duration": 4,
    "start_time": "2024-11-27T15:19:18.208Z"
   },
   {
    "duration": 3,
    "start_time": "2024-11-27T15:19:18.214Z"
   },
   {
    "duration": 21,
    "start_time": "2024-11-27T15:19:18.219Z"
   },
   {
    "duration": 5,
    "start_time": "2024-11-27T15:19:18.241Z"
   },
   {
    "duration": 4,
    "start_time": "2024-11-27T15:19:18.247Z"
   },
   {
    "duration": 594,
    "start_time": "2024-11-27T15:19:18.252Z"
   },
   {
    "duration": 4,
    "start_time": "2024-11-27T15:19:18.848Z"
   },
   {
    "duration": 5,
    "start_time": "2024-11-27T15:19:18.853Z"
   },
   {
    "duration": 3,
    "start_time": "2024-11-27T15:19:18.863Z"
   },
   {
    "duration": 40,
    "start_time": "2024-11-27T15:19:18.868Z"
   },
   {
    "duration": 4,
    "start_time": "2024-11-27T15:19:18.910Z"
   },
   {
    "duration": 5,
    "start_time": "2024-11-27T15:19:18.916Z"
   },
   {
    "duration": 3,
    "start_time": "2024-11-27T15:19:18.923Z"
   },
   {
    "duration": 78,
    "start_time": "2024-11-27T15:19:18.928Z"
   },
   {
    "duration": 4,
    "start_time": "2024-11-27T15:19:19.007Z"
   },
   {
    "duration": 3,
    "start_time": "2024-11-27T15:19:19.013Z"
   },
   {
    "duration": 4,
    "start_time": "2024-11-27T15:19:19.017Z"
   },
   {
    "duration": 3,
    "start_time": "2024-11-27T15:19:19.023Z"
   },
   {
    "duration": 5,
    "start_time": "2024-11-27T15:19:19.027Z"
   },
   {
    "duration": 12,
    "start_time": "2024-11-27T15:19:19.106Z"
   },
   {
    "duration": 5,
    "start_time": "2024-11-27T15:19:19.119Z"
   },
   {
    "duration": 82,
    "start_time": "2024-11-27T15:19:19.125Z"
   },
   {
    "duration": 17,
    "start_time": "2024-11-27T15:19:19.210Z"
   },
   {
    "duration": 544,
    "start_time": "2024-11-27T15:19:19.230Z"
   },
   {
    "duration": 3,
    "start_time": "2024-11-27T15:19:19.776Z"
   },
   {
    "duration": 25,
    "start_time": "2024-11-27T15:19:19.781Z"
   },
   {
    "duration": 8,
    "start_time": "2024-11-27T15:19:19.808Z"
   },
   {
    "duration": 5,
    "start_time": "2024-11-27T15:58:43.873Z"
   },
   {
    "duration": 10,
    "start_time": "2024-11-27T15:58:44.905Z"
   },
   {
    "duration": 12,
    "start_time": "2024-11-27T16:00:02.002Z"
   },
   {
    "duration": 233,
    "start_time": "2024-11-27T16:03:44.790Z"
   },
   {
    "duration": 34,
    "start_time": "2024-11-27T16:03:55.742Z"
   },
   {
    "duration": 4,
    "start_time": "2024-11-27T16:04:06.183Z"
   },
   {
    "duration": 8,
    "start_time": "2024-11-27T16:04:16.932Z"
   },
   {
    "duration": 5,
    "start_time": "2024-11-27T16:09:54.579Z"
   },
   {
    "duration": 983,
    "start_time": "2024-11-27T21:44:57.731Z"
   },
   {
    "duration": 8,
    "start_time": "2024-11-27T21:44:58.716Z"
   },
   {
    "duration": 3,
    "start_time": "2024-11-27T21:44:58.725Z"
   },
   {
    "duration": 10,
    "start_time": "2024-11-27T21:44:58.730Z"
   },
   {
    "duration": 8,
    "start_time": "2024-11-27T21:44:58.742Z"
   },
   {
    "duration": 3,
    "start_time": "2024-11-27T21:44:58.752Z"
   },
   {
    "duration": 8,
    "start_time": "2024-11-27T21:44:58.757Z"
   },
   {
    "duration": 52,
    "start_time": "2024-11-27T21:44:58.767Z"
   },
   {
    "duration": 2558,
    "start_time": "2024-11-27T21:44:58.821Z"
   },
   {
    "duration": 2,
    "start_time": "2024-11-27T21:45:01.381Z"
   },
   {
    "duration": 4,
    "start_time": "2024-11-27T21:45:01.387Z"
   },
   {
    "duration": 19,
    "start_time": "2024-11-27T21:45:01.393Z"
   },
   {
    "duration": 8,
    "start_time": "2024-11-27T21:45:01.413Z"
   },
   {
    "duration": 20,
    "start_time": "2024-11-27T21:45:01.425Z"
   },
   {
    "duration": 20,
    "start_time": "2024-11-27T21:45:01.446Z"
   },
   {
    "duration": 11,
    "start_time": "2024-11-27T21:45:01.468Z"
   },
   {
    "duration": 37,
    "start_time": "2024-11-27T21:45:01.481Z"
   },
   {
    "duration": 3,
    "start_time": "2024-11-27T21:45:01.520Z"
   },
   {
    "duration": 5,
    "start_time": "2024-11-27T21:45:01.524Z"
   },
   {
    "duration": 3,
    "start_time": "2024-11-27T21:45:01.530Z"
   },
   {
    "duration": 3,
    "start_time": "2024-11-27T21:45:01.535Z"
   },
   {
    "duration": 19,
    "start_time": "2024-11-27T21:45:01.539Z"
   },
   {
    "duration": 5,
    "start_time": "2024-11-27T21:45:01.560Z"
   },
   {
    "duration": 4,
    "start_time": "2024-11-27T21:45:01.566Z"
   },
   {
    "duration": 646,
    "start_time": "2024-11-27T21:45:01.571Z"
   },
   {
    "duration": 4,
    "start_time": "2024-11-27T21:45:02.219Z"
   },
   {
    "duration": 4,
    "start_time": "2024-11-27T21:45:02.224Z"
   },
   {
    "duration": 3,
    "start_time": "2024-11-27T21:45:02.230Z"
   },
   {
    "duration": 10,
    "start_time": "2024-11-27T21:45:02.235Z"
   },
   {
    "duration": 3,
    "start_time": "2024-11-27T21:45:02.247Z"
   },
   {
    "duration": 4,
    "start_time": "2024-11-27T21:45:02.308Z"
   },
   {
    "duration": 3,
    "start_time": "2024-11-27T21:45:02.314Z"
   },
   {
    "duration": 3,
    "start_time": "2024-11-27T21:45:02.319Z"
   },
   {
    "duration": 3,
    "start_time": "2024-11-27T21:45:02.323Z"
   },
   {
    "duration": 2,
    "start_time": "2024-11-27T21:45:02.328Z"
   },
   {
    "duration": 79,
    "start_time": "2024-11-27T21:45:02.332Z"
   },
   {
    "duration": 3,
    "start_time": "2024-11-27T21:45:02.413Z"
   },
   {
    "duration": 5,
    "start_time": "2024-11-27T21:45:02.418Z"
   },
   {
    "duration": 11,
    "start_time": "2024-11-27T21:45:02.424Z"
   },
   {
    "duration": 4,
    "start_time": "2024-11-27T21:45:02.437Z"
   },
   {
    "duration": 65,
    "start_time": "2024-11-27T21:45:02.446Z"
   },
   {
    "duration": 12,
    "start_time": "2024-11-27T21:45:02.514Z"
   },
   {
    "duration": 553,
    "start_time": "2024-11-27T21:45:02.528Z"
   },
   {
    "duration": 27,
    "start_time": "2024-11-27T21:45:03.083Z"
   },
   {
    "duration": 5,
    "start_time": "2024-11-27T21:45:03.113Z"
   },
   {
    "duration": 8,
    "start_time": "2024-11-27T21:45:03.121Z"
   }
  ],
  "kernelspec": {
   "display_name": "Python 3 (ipykernel)",
   "language": "python",
   "name": "python3"
  },
  "language_info": {
   "codemirror_mode": {
    "name": "ipython",
    "version": 3
   },
   "file_extension": ".py",
   "mimetype": "text/x-python",
   "name": "python",
   "nbconvert_exporter": "python",
   "pygments_lexer": "ipython3",
   "version": "3.9.19"
  },
  "toc": {
   "base_numbering": 1,
   "nav_menu": {},
   "number_sections": true,
   "sideBar": true,
   "skip_h1_title": true,
   "title_cell": "Table of Contents",
   "title_sidebar": "Contents",
   "toc_cell": false,
   "toc_position": {},
   "toc_section_display": true,
   "toc_window_display": false
  }
 },
 "nbformat": 4,
 "nbformat_minor": 4
}
